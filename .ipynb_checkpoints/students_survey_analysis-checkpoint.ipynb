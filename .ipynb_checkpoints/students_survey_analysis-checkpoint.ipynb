{
 "cells": [
  {
   "cell_type": "markdown",
   "metadata": {},
   "source": [
    "# Student Survey Analysis"
   ]
  },
  {
   "cell_type": "markdown",
   "metadata": {},
   "source": [
    "### Author: Ahmad Arrabi"
   ]
  },
  {
   "cell_type": "markdown",
   "metadata": {},
   "source": [
    "This work presents a simple analysis of a survey on online learning. Our aim is to be comfortable coding with python and to use it as a tool to gain insight, visualize, and interpret our data."
   ]
  },
  {
   "cell_type": "code",
   "execution_count": 1,
   "metadata": {},
   "outputs": [],
   "source": [
    "import pandas as pd\n",
    "import matplotlib.pyplot as plt\n",
    "%matplotlib inline"
   ]
  },
  {
   "cell_type": "markdown",
   "metadata": {},
   "source": [
    "Make sure your data is in csv format. In this case, we converted from '.xlsx' to '.csv'"
   ]
  },
  {
   "cell_type": "code",
   "execution_count": 2,
   "metadata": {},
   "outputs": [],
   "source": [
    "survey = pd.read_csv('students_survey.csv')"
   ]
  },
  {
   "cell_type": "markdown",
   "metadata": {},
   "source": [
    "## Dataset Overview"
   ]
  },
  {
   "cell_type": "code",
   "execution_count": 3,
   "metadata": {},
   "outputs": [
    {
     "data": {
      "text/html": [
       "<div>\n",
       "<style scoped>\n",
       "    .dataframe tbody tr th:only-of-type {\n",
       "        vertical-align: middle;\n",
       "    }\n",
       "\n",
       "    .dataframe tbody tr th {\n",
       "        vertical-align: top;\n",
       "    }\n",
       "\n",
       "    .dataframe thead th {\n",
       "        text-align: right;\n",
       "    }\n",
       "</style>\n",
       "<table border=\"1\" class=\"dataframe\">\n",
       "  <thead>\n",
       "    <tr style=\"text-align: right;\">\n",
       "      <th></th>\n",
       "      <th>Timestamp</th>\n",
       "      <th>Gender</th>\n",
       "      <th>Webcam status during class</th>\n",
       "      <th>Mic status during class</th>\n",
       "      <th>Which device do you use for online classes?</th>\n",
       "      <th>Did you face any of the following issues after the initiation of online classes?</th>\n",
       "      <th>Are you able to understand the concepts through online classes?</th>\n",
       "      <th>Which teaching methodology do you prefer?</th>\n",
       "      <th>Are you interested in attending online classes?</th>\n",
       "      <th>If you are given a choice between online classes and offline classes which one will you choose?</th>\n",
       "      <th>Comments on online classes</th>\n",
       "    </tr>\n",
       "  </thead>\n",
       "  <tbody>\n",
       "    <tr>\n",
       "      <th>0</th>\n",
       "      <td>8-31-2020 10:24:49</td>\n",
       "      <td>Male</td>\n",
       "      <td>Off (Other reason)</td>\n",
       "      <td>On (To answer Teacher)</td>\n",
       "      <td>Laptop</td>\n",
       "      <td>Eye Strain, Headache</td>\n",
       "      <td>Yes</td>\n",
       "      <td>Black board teaching</td>\n",
       "      <td>Yes</td>\n",
       "      <td>Offline classes</td>\n",
       "      <td>NaN</td>\n",
       "    </tr>\n",
       "    <tr>\n",
       "      <th>1</th>\n",
       "      <td>8-31-2020 17:39:42</td>\n",
       "      <td>Male</td>\n",
       "      <td>Off (No webcam available)</td>\n",
       "      <td>On (To answer Teacher)</td>\n",
       "      <td>Computer</td>\n",
       "      <td>Eye Strain</td>\n",
       "      <td>Yes</td>\n",
       "      <td>Presentations (ppt)</td>\n",
       "      <td>Yes</td>\n",
       "      <td>Online classes</td>\n",
       "      <td>Good Teaching , But It can be improved</td>\n",
       "    </tr>\n",
       "    <tr>\n",
       "      <th>2</th>\n",
       "      <td>8-31-2020 17:40:39</td>\n",
       "      <td>Male</td>\n",
       "      <td>On (When teacher asks)</td>\n",
       "      <td>On (To answer Teacher)</td>\n",
       "      <td>Laptop</td>\n",
       "      <td>Eye Strain, Back pain, Headache</td>\n",
       "      <td>Yes</td>\n",
       "      <td>Black board teaching</td>\n",
       "      <td>No</td>\n",
       "      <td>Offline classes</td>\n",
       "      <td>I would prefer offline classes</td>\n",
       "    </tr>\n",
       "    <tr>\n",
       "      <th>3</th>\n",
       "      <td>8-31-2020 17:43:43</td>\n",
       "      <td>Male</td>\n",
       "      <td>On (All the time)</td>\n",
       "      <td>On (To answer Teacher)</td>\n",
       "      <td>Computer</td>\n",
       "      <td>Eye Strain, Back pain</td>\n",
       "      <td>Yes</td>\n",
       "      <td>Presentations (ppt)</td>\n",
       "      <td>Yes</td>\n",
       "      <td>Offline classes</td>\n",
       "      <td>NaN</td>\n",
       "    </tr>\n",
       "    <tr>\n",
       "      <th>4</th>\n",
       "      <td>8-31-2020 17:44:06</td>\n",
       "      <td>Female</td>\n",
       "      <td>On (When teacher asks)</td>\n",
       "      <td>On (To answer Teacher)</td>\n",
       "      <td>Phone, Laptop</td>\n",
       "      <td>Eye Strain, Back pain, Headache</td>\n",
       "      <td>No</td>\n",
       "      <td>Black board teaching</td>\n",
       "      <td>No</td>\n",
       "      <td>Offline classes</td>\n",
       "      <td>NaN</td>\n",
       "    </tr>\n",
       "    <tr>\n",
       "      <th>5</th>\n",
       "      <td>8-31-2020 17:44:33</td>\n",
       "      <td>Male</td>\n",
       "      <td>On (When teacher asks)</td>\n",
       "      <td>On (To answer Teacher)</td>\n",
       "      <td>Laptop</td>\n",
       "      <td>Headache</td>\n",
       "      <td>Yes</td>\n",
       "      <td>Presentations (ppt)</td>\n",
       "      <td>No</td>\n",
       "      <td>Offline classes</td>\n",
       "      <td>NaN</td>\n",
       "    </tr>\n",
       "    <tr>\n",
       "      <th>6</th>\n",
       "      <td>8-31-2020 17:46:44</td>\n",
       "      <td>Female</td>\n",
       "      <td>On (When teacher asks)</td>\n",
       "      <td>On (To answer Teacher)</td>\n",
       "      <td>Phone, Tab, Laptop, Computer</td>\n",
       "      <td>Eye Strain, Back pain, Headache</td>\n",
       "      <td>Yes</td>\n",
       "      <td>Black board teaching</td>\n",
       "      <td>Yes</td>\n",
       "      <td>Offline classes</td>\n",
       "      <td>NaN</td>\n",
       "    </tr>\n",
       "    <tr>\n",
       "      <th>7</th>\n",
       "      <td>8-31-2020 17:47:08</td>\n",
       "      <td>Male</td>\n",
       "      <td>On (All the time)</td>\n",
       "      <td>On (To answer Teacher)</td>\n",
       "      <td>Tab</td>\n",
       "      <td>Back pain</td>\n",
       "      <td>No</td>\n",
       "      <td>Black board teaching</td>\n",
       "      <td>No</td>\n",
       "      <td>Online classes</td>\n",
       "      <td>NaN</td>\n",
       "    </tr>\n",
       "  </tbody>\n",
       "</table>\n",
       "</div>"
      ],
      "text/plain": [
       "            Timestamp  Gender Webcam status during class  \\\n",
       "0  8-31-2020 10:24:49    Male         Off (Other reason)   \n",
       "1  8-31-2020 17:39:42    Male  Off (No webcam available)   \n",
       "2  8-31-2020 17:40:39    Male     On (When teacher asks)   \n",
       "3  8-31-2020 17:43:43    Male          On (All the time)   \n",
       "4  8-31-2020 17:44:06  Female     On (When teacher asks)   \n",
       "5  8-31-2020 17:44:33    Male     On (When teacher asks)   \n",
       "6  8-31-2020 17:46:44  Female     On (When teacher asks)   \n",
       "7  8-31-2020 17:47:08    Male          On (All the time)   \n",
       "\n",
       "  Mic status during class Which device do you use for online classes?  \\\n",
       "0  On (To answer Teacher)                                      Laptop   \n",
       "1  On (To answer Teacher)                                    Computer   \n",
       "2  On (To answer Teacher)                                      Laptop   \n",
       "3  On (To answer Teacher)                                    Computer   \n",
       "4  On (To answer Teacher)                               Phone, Laptop   \n",
       "5  On (To answer Teacher)                                      Laptop   \n",
       "6  On (To answer Teacher)                Phone, Tab, Laptop, Computer   \n",
       "7  On (To answer Teacher)                                         Tab   \n",
       "\n",
       "  Did you face any of the following issues after the initiation of online classes?  \\\n",
       "0                               Eye Strain, Headache                                 \n",
       "1                                         Eye Strain                                 \n",
       "2                    Eye Strain, Back pain, Headache                                 \n",
       "3                              Eye Strain, Back pain                                 \n",
       "4                    Eye Strain, Back pain, Headache                                 \n",
       "5                                           Headache                                 \n",
       "6                    Eye Strain, Back pain, Headache                                 \n",
       "7                                          Back pain                                 \n",
       "\n",
       "  Are you able to understand the concepts through online classes?  \\\n",
       "0                                                Yes                \n",
       "1                                                Yes                \n",
       "2                                                Yes                \n",
       "3                                                Yes                \n",
       "4                                                 No                \n",
       "5                                                Yes                \n",
       "6                                                Yes                \n",
       "7                                                 No                \n",
       "\n",
       "  Which teaching methodology do you prefer?  \\\n",
       "0                      Black board teaching   \n",
       "1                       Presentations (ppt)   \n",
       "2                      Black board teaching   \n",
       "3                       Presentations (ppt)   \n",
       "4                      Black board teaching   \n",
       "5                       Presentations (ppt)   \n",
       "6                      Black board teaching   \n",
       "7                      Black board teaching   \n",
       "\n",
       "  Are you interested in attending online classes?  \\\n",
       "0                                             Yes   \n",
       "1                                             Yes   \n",
       "2                                              No   \n",
       "3                                             Yes   \n",
       "4                                              No   \n",
       "5                                              No   \n",
       "6                                             Yes   \n",
       "7                                              No   \n",
       "\n",
       "  If you are given a choice between online classes and offline classes which one will you choose?  \\\n",
       "0                                    Offline classes                                                \n",
       "1                                     Online classes                                                \n",
       "2                                    Offline classes                                                \n",
       "3                                    Offline classes                                                \n",
       "4                                    Offline classes                                                \n",
       "5                                    Offline classes                                                \n",
       "6                                    Offline classes                                                \n",
       "7                                     Online classes                                                \n",
       "\n",
       "                Comments on online classes  \n",
       "0                                      NaN  \n",
       "1  Good Teaching , But It can be improved   \n",
       "2          I would prefer offline classes   \n",
       "3                                      NaN  \n",
       "4                                      NaN  \n",
       "5                                      NaN  \n",
       "6                                      NaN  \n",
       "7                                      NaN  "
      ]
     },
     "execution_count": 3,
     "metadata": {},
     "output_type": "execute_result"
    }
   ],
   "source": [
    "survey.head(8)"
   ]
  },
  {
   "cell_type": "code",
   "execution_count": 4,
   "metadata": {},
   "outputs": [
    {
     "data": {
      "text/plain": [
       "(746, 11)"
      ]
     },
     "execution_count": 4,
     "metadata": {},
     "output_type": "execute_result"
    }
   ],
   "source": [
    "survey.shape"
   ]
  },
  {
   "cell_type": "code",
   "execution_count": 5,
   "metadata": {},
   "outputs": [
    {
     "name": "stdout",
     "output_type": "stream",
     "text": [
      "<class 'pandas.core.frame.DataFrame'>\n",
      "RangeIndex: 746 entries, 0 to 745\n",
      "Data columns (total 11 columns):\n",
      " #   Column                                                                                           Non-Null Count  Dtype \n",
      "---  ------                                                                                           --------------  ----- \n",
      " 0   Timestamp                                                                                        746 non-null    object\n",
      " 1   Gender                                                                                           746 non-null    object\n",
      " 2   Webcam status during class                                                                       746 non-null    object\n",
      " 3   Mic status during class                                                                          746 non-null    object\n",
      " 4   Which device do you use for online classes?                                                      746 non-null    object\n",
      " 5   Did you face any of the following issues after the initiation of online classes?                 746 non-null    object\n",
      " 6   Are you able to understand the concepts through online classes?                                  746 non-null    object\n",
      " 7   Which teaching methodology do you prefer?                                                        746 non-null    object\n",
      " 8   Are you interested in attending online classes?                                                  746 non-null    object\n",
      " 9   If you are given a choice between online classes and offline classes which one will you choose?  746 non-null    object\n",
      " 10  Comments on online classes                                                                       247 non-null    object\n",
      "dtypes: object(11)\n",
      "memory usage: 64.2+ KB\n"
     ]
    }
   ],
   "source": [
    "survey.info()"
   ]
  },
  {
   "cell_type": "code",
   "execution_count": 6,
   "metadata": {},
   "outputs": [
    {
     "data": {
      "text/html": [
       "<div>\n",
       "<style scoped>\n",
       "    .dataframe tbody tr th:only-of-type {\n",
       "        vertical-align: middle;\n",
       "    }\n",
       "\n",
       "    .dataframe tbody tr th {\n",
       "        vertical-align: top;\n",
       "    }\n",
       "\n",
       "    .dataframe thead th {\n",
       "        text-align: right;\n",
       "    }\n",
       "</style>\n",
       "<table border=\"1\" class=\"dataframe\">\n",
       "  <thead>\n",
       "    <tr style=\"text-align: right;\">\n",
       "      <th></th>\n",
       "      <th>Timestamp</th>\n",
       "      <th>Gender</th>\n",
       "      <th>Webcam status during class</th>\n",
       "      <th>Mic status during class</th>\n",
       "      <th>Which device do you use for online classes?</th>\n",
       "      <th>Did you face any of the following issues after the initiation of online classes?</th>\n",
       "      <th>Are you able to understand the concepts through online classes?</th>\n",
       "      <th>Which teaching methodology do you prefer?</th>\n",
       "      <th>Are you interested in attending online classes?</th>\n",
       "      <th>If you are given a choice between online classes and offline classes which one will you choose?</th>\n",
       "      <th>Comments on online classes</th>\n",
       "    </tr>\n",
       "  </thead>\n",
       "  <tbody>\n",
       "    <tr>\n",
       "      <th>count</th>\n",
       "      <td>746</td>\n",
       "      <td>746</td>\n",
       "      <td>746</td>\n",
       "      <td>746</td>\n",
       "      <td>746</td>\n",
       "      <td>746</td>\n",
       "      <td>746</td>\n",
       "      <td>746</td>\n",
       "      <td>746</td>\n",
       "      <td>746</td>\n",
       "      <td>247</td>\n",
       "    </tr>\n",
       "    <tr>\n",
       "      <th>unique</th>\n",
       "      <td>733</td>\n",
       "      <td>2</td>\n",
       "      <td>6</td>\n",
       "      <td>5</td>\n",
       "      <td>15</td>\n",
       "      <td>35</td>\n",
       "      <td>2</td>\n",
       "      <td>2</td>\n",
       "      <td>2</td>\n",
       "      <td>2</td>\n",
       "      <td>183</td>\n",
       "    </tr>\n",
       "    <tr>\n",
       "      <th>top</th>\n",
       "      <td>8-31-2020 18:33:17</td>\n",
       "      <td>Female</td>\n",
       "      <td>On (When teacher asks)</td>\n",
       "      <td>On (To answer Teacher)</td>\n",
       "      <td>Laptop</td>\n",
       "      <td>No Issue</td>\n",
       "      <td>No</td>\n",
       "      <td>Black board teaching</td>\n",
       "      <td>No</td>\n",
       "      <td>Offline classes</td>\n",
       "      <td>Good</td>\n",
       "    </tr>\n",
       "    <tr>\n",
       "      <th>freq</th>\n",
       "      <td>2</td>\n",
       "      <td>384</td>\n",
       "      <td>366</td>\n",
       "      <td>493</td>\n",
       "      <td>323</td>\n",
       "      <td>87</td>\n",
       "      <td>390</td>\n",
       "      <td>515</td>\n",
       "      <td>435</td>\n",
       "      <td>585</td>\n",
       "      <td>17</td>\n",
       "    </tr>\n",
       "  </tbody>\n",
       "</table>\n",
       "</div>"
      ],
      "text/plain": [
       "                 Timestamp  Gender Webcam status during class  \\\n",
       "count                  746     746                        746   \n",
       "unique                 733       2                          6   \n",
       "top     8-31-2020 18:33:17  Female     On (When teacher asks)   \n",
       "freq                     2     384                        366   \n",
       "\n",
       "       Mic status during class Which device do you use for online classes?  \\\n",
       "count                      746                                         746   \n",
       "unique                       5                                          15   \n",
       "top     On (To answer Teacher)                                      Laptop   \n",
       "freq                       493                                         323   \n",
       "\n",
       "       Did you face any of the following issues after the initiation of online classes?  \\\n",
       "count                                                 746                                 \n",
       "unique                                                 35                                 \n",
       "top                                              No Issue                                 \n",
       "freq                                                   87                                 \n",
       "\n",
       "       Are you able to understand the concepts through online classes?  \\\n",
       "count                                                 746                \n",
       "unique                                                  2                \n",
       "top                                                    No                \n",
       "freq                                                  390                \n",
       "\n",
       "       Which teaching methodology do you prefer?  \\\n",
       "count                                        746   \n",
       "unique                                         2   \n",
       "top                         Black board teaching   \n",
       "freq                                         515   \n",
       "\n",
       "       Are you interested in attending online classes?  \\\n",
       "count                                              746   \n",
       "unique                                               2   \n",
       "top                                                 No   \n",
       "freq                                               435   \n",
       "\n",
       "       If you are given a choice between online classes and offline classes which one will you choose?  \\\n",
       "count                                                 746                                                \n",
       "unique                                                  2                                                \n",
       "top                                       Offline classes                                                \n",
       "freq                                                  585                                                \n",
       "\n",
       "       Comments on online classes  \n",
       "count                         247  \n",
       "unique                        183  \n",
       "top                          Good  \n",
       "freq                           17  "
      ]
     },
     "execution_count": 6,
     "metadata": {},
     "output_type": "execute_result"
    }
   ],
   "source": [
    "survey.describe()"
   ]
  },
  {
   "cell_type": "markdown",
   "metadata": {},
   "source": [
    "By using the describe function, we can know the most frequent answer for each question. It is apparent that students were not satisfied with online teaching."
   ]
  },
  {
   "cell_type": "markdown",
   "metadata": {},
   "source": [
    "## Analyzing answers"
   ]
  },
  {
   "cell_type": "markdown",
   "metadata": {},
   "source": [
    "#### Activity in class"
   ]
  },
  {
   "cell_type": "markdown",
   "metadata": {},
   "source": [
    "Let's first take a look at how much do students interact in class (webcam/mic)"
   ]
  },
  {
   "cell_type": "code",
   "execution_count": 7,
   "metadata": {},
   "outputs": [
    {
     "data": {
      "text/plain": [
       "On (When teacher asks)       366\n",
       "On (All the time)            124\n",
       "Off (Other reason)            89\n",
       "Off (Shy to switch on)        57\n",
       "Off (No webcam available)     56\n",
       "Off (Untidy appearance)       54\n",
       "Name: Webcam status during class, dtype: int64"
      ]
     },
     "execution_count": 7,
     "metadata": {},
     "output_type": "execute_result"
    }
   ],
   "source": [
    "survey['Webcam status during class'].value_counts()"
   ]
  },
  {
   "cell_type": "code",
   "execution_count": 162,
   "metadata": {},
   "outputs": [
    {
     "data": {
      "image/png": "[encoded data removed]",
      "text/plain": [
       "<Figure size 432x288 with 1 Axes>"
      ]
     },
     "metadata": {
      "needs_background": "light"
     },
     "output_type": "display_data"
    }
   ],
   "source": [
    "webcam_on = survey.loc[survey['Webcam status during class'].str.startswith('On')]\n",
    "webcam_off = survey.loc[survey['Webcam status during class'].str.startswith('Off')]\n",
    "\n",
    "webcam_on.loc[:,('Webcam status during class')] = 'On'\n",
    "\n",
    "webcam_off.loc[:,('Webcam status during class')] = 'Off'\n",
    "\n",
    "plt.bar(x = webcam_on['Webcam status during class'], height = len(webcam_on), width = 0.3, align='center')\n",
    "plt.bar(x = webcam_off['Webcam status during class'], height = len(webcam_off), width = 0.3, align='center')\n",
    "\n",
    "plt.title('Webcam usage by students')\n",
    "plt.show()"
   ]
  },
  {
   "cell_type": "code",
   "execution_count": 160,
   "metadata": {},
   "outputs": [
    {
     "data": {
      "image/png": "[encoded data removed]",
      "text/plain": [
       "<Figure size 576x432 with 1 Axes>"
      ]
     },
     "metadata": {
      "needs_background": "light"
     },
     "output_type": "display_data"
    }
   ],
   "source": [
    "survey['Webcam status during class'].value_counts().plot(kind = 'bar', figsize = (8,6), fontsize=12)\n",
    "plt.xticks(rotation =20)\n",
    "plt.title('Webcam status')\n",
    "plt.show()"
   ]
  },
  {
   "cell_type": "code",
   "execution_count": 10,
   "metadata": {},
   "outputs": [
    {
     "data": {
      "text/plain": [
       "On (To answer Teacher)        493\n",
       "Always On                      88\n",
       "Off (Do not want to reply)     63\n",
       "Off (Other reason)             58\n",
       "Off (No mic available)         44\n",
       "Name: Mic status during class, dtype: int64"
      ]
     },
     "execution_count": 10,
     "metadata": {},
     "output_type": "execute_result"
    }
   ],
   "source": [
    "survey['Mic status during class'].value_counts()"
   ]
  },
  {
   "cell_type": "code",
   "execution_count": 11,
   "metadata": {},
   "outputs": [
    {
     "data": {
      "image/png": "[encoded data removed]",
      "text/plain": [
       "<Figure size 432x288 with 1 Axes>"
      ]
     },
     "metadata": {
      "needs_background": "light"
     },
     "output_type": "display_data"
    }
   ],
   "source": [
    "mic_on = survey.loc[survey['Mic status during class'].str.startswith('On') |\n",
    "                    survey['Mic status during class'].str.startswith('Always')]\n",
    "\n",
    "mic_off = survey.loc[survey['Mic status during class'].str.startswith('Off')]\n",
    "\n",
    "mic_on.loc[:,('Mic status during class')] = 'On'\n",
    "mic_off.loc[:,('Mic status during class')] = 'Off'\n",
    "\n",
    "plt.bar(x = mic_on['Mic status during class'], height = len(mic_on), width = 0.3, align='center')\n",
    "plt.bar(x = mic_off['Mic status during class'], height = len(mic_off), width = 0.3, align='center')\n",
    "\n",
    "plt.title('Mic usage by students')\n",
    "plt.show()"
   ]
  },
  {
   "cell_type": "code",
   "execution_count": 172,
   "metadata": {},
   "outputs": [
    {
     "data": {
      "image/png": "[encoded data removed]",
      "text/plain": [
       "<Figure size 576x432 with 1 Axes>"
      ]
     },
     "metadata": {
      "needs_background": "light"
     },
     "output_type": "display_data"
    }
   ],
   "source": [
    "survey['Mic status during class'].value_counts().plot(kind='bar', figsize = (8, 6), fontsize = 12)\n",
    "plt.xticks(rotation =20)\n",
    "plt.title('Mic status')\n",
    "plt.show()"
   ]
  },
  {
   "cell_type": "markdown",
   "metadata": {},
   "source": [
    "Now we want to determine students' overall interaction in classes, which can be defined as students who have either the mic or the webcam enabled."
   ]
  },
  {
   "cell_type": "markdown",
   "metadata": {},
   "source": [
    "We didn't change the index so if we joined datasets on index, and filtered out students with both webcam and mic on, then we'll get interactive students."
   ]
  },
  {
   "cell_type": "code",
   "execution_count": 13,
   "metadata": {},
   "outputs": [],
   "source": [
    "mic_on = mic_on.filter(['Mic status during class'])\n",
    "mic_off = mic_off.filter(['Mic status during class'])\n",
    "webcam_on = webcam_on.filter(['Webcam status during class'])\n",
    "webcam_off = webcam_off.filter(['Webcam status during class'])"
   ]
  },
  {
   "cell_type": "code",
   "execution_count": 14,
   "metadata": {},
   "outputs": [],
   "source": [
    "interactive_students = webcam_on.join(mic_on, how = 'outer')\n",
    "\n",
    "lazy_students = webcam_off.join(mic_off, how = 'outer')"
   ]
  },
  {
   "cell_type": "markdown",
   "metadata": {},
   "source": [
    "Notice that outer joins lead to null values, so we have to deal with that !"
   ]
  },
  {
   "cell_type": "code",
   "execution_count": 15,
   "metadata": {},
   "outputs": [],
   "source": [
    "interactive_students.fillna('NULL', inplace = True)\n",
    "lazy_students.fillna('NULL', inplace = True)\n",
    "\n",
    "interactive_students = interactive_students.loc[(interactive_students['Mic status during class'] == 'On') |\n",
    "                        (interactive_students['Webcam status during class'] == 'On')]\n",
    "\n",
    "lazy_students = lazy_students.loc[(lazy_students['Mic status during class'] == 'Off') &\n",
    "                        (lazy_students['Webcam status during class'] == 'Off')]\n",
    "\n",
    "interactive_students['active'] = True\n",
    "\n",
    "lazy_students['active'] = False\n",
    "\n",
    "interactive_students = interactive_students.filter(['active'])\n",
    "\n",
    "lazy_students = lazy_students.filter(['active'])"
   ]
  },
  {
   "cell_type": "code",
   "execution_count": 16,
   "metadata": {},
   "outputs": [],
   "source": [
    "survey = survey.join(interactive_students)\n",
    "survey['active'].fillna(False, inplace = True)"
   ]
  },
  {
   "cell_type": "code",
   "execution_count": 17,
   "metadata": {},
   "outputs": [
    {
     "data": {
      "text/plain": [
       "True     0.831099\n",
       "False    0.168901\n",
       "Name: active, dtype: float64"
      ]
     },
     "execution_count": 17,
     "metadata": {},
     "output_type": "execute_result"
    }
   ],
   "source": [
    "survey['active'].value_counts(normalize = True)"
   ]
  },
  {
   "cell_type": "code",
   "execution_count": 18,
   "metadata": {},
   "outputs": [
    {
     "data": {
      "image/png": "[encoded data removed]",
      "text/plain": [
       "<Figure size 360x360 with 1 Axes>"
      ]
     },
     "metadata": {},
     "output_type": "display_data"
    }
   ],
   "source": [
    "survey['active'].value_counts(normalize = True).plot(figsize = (5,5), kind = 'pie', ylabel = '', autopct='%1.1f%%', startangle=270, fontsize=12, title = 'Students activity in online classes')\n",
    "plt.legend(['active','inactive'], loc = 'upper left')\n",
    "plt.show()"
   ]
  },
  {
   "cell_type": "markdown",
   "metadata": {},
   "source": [
    "#### Device used to attend class"
   ]
  },
  {
   "cell_type": "markdown",
   "metadata": {},
   "source": [
    "Let's analyze another answer, which is Which device do you use for online classes?"
   ]
  },
  {
   "cell_type": "code",
   "execution_count": 19,
   "metadata": {},
   "outputs": [
    {
     "data": {
      "text/plain": [
       "Laptop                          323\n",
       "Phone                           166\n",
       "Phone, Laptop                   105\n",
       "Computer                         40\n",
       "Tab                              35\n",
       "Phone, Tab, Laptop, Computer     15\n",
       "Tab, Laptop                      14\n",
       "Phone, Tab, Laptop               12\n",
       "Phone, Tab                       10\n",
       "Laptop, Computer                 10\n",
       "Phone, Laptop, Computer           8\n",
       "Phone, Computer                   3\n",
       "Tab, Computer                     2\n",
       "Tab, Laptop, Computer             2\n",
       "Phone, Tab, Computer              1\n",
       "Name: Which device do you use for online classes?, dtype: int64"
      ]
     },
     "execution_count": 19,
     "metadata": {},
     "output_type": "execute_result"
    }
   ],
   "source": [
    "survey['Which device do you use for online classes?'].value_counts()"
   ]
  },
  {
   "cell_type": "markdown",
   "metadata": {},
   "source": [
    "Notice that there are multiple devices in one string"
   ]
  },
  {
   "cell_type": "code",
   "execution_count": 20,
   "metadata": {},
   "outputs": [],
   "source": [
    "lazy_students_devices = survey.loc[survey['active'] == False]['Which device do you use for online classes?'].str.split(',', expand = True)"
   ]
  },
  {
   "cell_type": "code",
   "execution_count": 21,
   "metadata": {},
   "outputs": [
    {
     "data": {
      "text/plain": [
       "Laptop      61\n",
       "Phone       59\n",
       "Computer    27\n",
       "Tab         22\n",
       "dtype: int64"
      ]
     },
     "execution_count": 21,
     "metadata": {},
     "output_type": "execute_result"
    }
   ],
   "source": [
    "lazy_students_devices.stack().str.lstrip().value_counts()"
   ]
  },
  {
   "cell_type": "code",
   "execution_count": 22,
   "metadata": {},
   "outputs": [],
   "source": [
    "active_students_devices = survey.loc[survey['active'] == True]['Which device do you use for online classes?'].str.split(',', expand=True)"
   ]
  },
  {
   "cell_type": "code",
   "execution_count": 23,
   "metadata": {},
   "outputs": [
    {
     "data": {
      "text/plain": [
       "Laptop      428\n",
       "Phone       261\n",
       "Tab          69\n",
       "Computer     54\n",
       "dtype: int64"
      ]
     },
     "execution_count": 23,
     "metadata": {},
     "output_type": "execute_result"
    }
   ],
   "source": [
    "active_students_devices.stack().str.lstrip().value_counts()"
   ]
  },
  {
   "cell_type": "markdown",
   "metadata": {},
   "source": [
    "#### Issues  faced in online learning"
   ]
  },
  {
   "cell_type": "code",
   "execution_count": 24,
   "metadata": {},
   "outputs": [
    {
     "data": {
      "image/png": "[encoded data removed]",
      "text/plain": [
       "<Figure size 504x360 with 1 Axes>"
      ]
     },
     "metadata": {
      "needs_background": "light"
     },
     "output_type": "display_data"
    }
   ],
   "source": [
    "survey['Did you face any of the following issues after the initiation of online classes?'].str.split(', ', expand=True).stack().value_counts().plot(kind = 'bar', figsize=(7,5))\n",
    "plt.xticks(rotation = 20)\n",
    "plt.title('Student issues faced during online leanring')\n",
    "plt.show()"
   ]
  },
  {
   "cell_type": "markdown",
   "metadata": {},
   "source": [
    "Most students faced issues during online learning, with only some (below 100) faced none."
   ]
  },
  {
   "cell_type": "markdown",
   "metadata": {},
   "source": [
    "Let's try to invistigate possible reasons behind these issues. "
   ]
  },
  {
   "cell_type": "code",
   "execution_count": 46,
   "metadata": {},
   "outputs": [
    {
     "data": {
      "text/plain": [
       "No     161\n",
       "Yes    101\n",
       "Name: Are you able to understand the concepts through online classes?, dtype: int64"
      ]
     },
     "execution_count": 46,
     "metadata": {},
     "output_type": "execute_result"
    }
   ],
   "source": [
    "stressed_students = survey.loc[survey['Did you face any of the following issues after the initiation of online classes?'].str.contains('Stress')]\n",
    "\n",
    "stressed_students['Are you able to understand the concepts through online classes?'].value_counts()"
   ]
  },
  {
   "cell_type": "markdown",
   "metadata": {},
   "source": [
    "It looks like students that do not understand online classes, get stressed over it."
   ]
  },
  {
   "cell_type": "markdown",
   "metadata": {},
   "source": [
    "Let's look at the students the faced no issues. "
   ]
  },
  {
   "cell_type": "markdown",
   "metadata": {},
   "source": [
    "It seems that their studying environment was friendly and all necessiry factors were there. They have access to a webcam and a mic, understand online classes, intreseted in online classes. "
   ]
  },
  {
   "cell_type": "code",
   "execution_count": 65,
   "metadata": {},
   "outputs": [],
   "source": [
    "no_issue_students = survey.loc[survey['Did you face any of the following issues after the initiation of online classes?'] == 'No Issue']"
   ]
  },
  {
   "cell_type": "code",
   "execution_count": 68,
   "metadata": {},
   "outputs": [
    {
     "data": {
      "text/html": [
       "<div>\n",
       "<style scoped>\n",
       "    .dataframe tbody tr th:only-of-type {\n",
       "        vertical-align: middle;\n",
       "    }\n",
       "\n",
       "    .dataframe tbody tr th {\n",
       "        vertical-align: top;\n",
       "    }\n",
       "\n",
       "    .dataframe thead th {\n",
       "        text-align: right;\n",
       "    }\n",
       "</style>\n",
       "<table border=\"1\" class=\"dataframe\">\n",
       "  <thead>\n",
       "    <tr style=\"text-align: right;\">\n",
       "      <th></th>\n",
       "      <th>Timestamp</th>\n",
       "      <th>Gender</th>\n",
       "      <th>Webcam status during class</th>\n",
       "      <th>Mic status during class</th>\n",
       "      <th>Which device do you use for online classes?</th>\n",
       "      <th>Did you face any of the following issues after the initiation of online classes?</th>\n",
       "      <th>Are you able to understand the concepts through online classes?</th>\n",
       "      <th>Which teaching methodology do you prefer?</th>\n",
       "      <th>Are you interested in attending online classes?</th>\n",
       "      <th>If you are given a choice between online classes and offline classes which one will you choose?</th>\n",
       "      <th>Comments on online classes</th>\n",
       "      <th>active</th>\n",
       "    </tr>\n",
       "  </thead>\n",
       "  <tbody>\n",
       "    <tr>\n",
       "      <th>count</th>\n",
       "      <td>87</td>\n",
       "      <td>87</td>\n",
       "      <td>87</td>\n",
       "      <td>87</td>\n",
       "      <td>87</td>\n",
       "      <td>87</td>\n",
       "      <td>87</td>\n",
       "      <td>87</td>\n",
       "      <td>87</td>\n",
       "      <td>87</td>\n",
       "      <td>32</td>\n",
       "      <td>87</td>\n",
       "    </tr>\n",
       "    <tr>\n",
       "      <th>unique</th>\n",
       "      <td>87</td>\n",
       "      <td>2</td>\n",
       "      <td>6</td>\n",
       "      <td>5</td>\n",
       "      <td>11</td>\n",
       "      <td>1</td>\n",
       "      <td>2</td>\n",
       "      <td>2</td>\n",
       "      <td>2</td>\n",
       "      <td>2</td>\n",
       "      <td>25</td>\n",
       "      <td>2</td>\n",
       "    </tr>\n",
       "    <tr>\n",
       "      <th>top</th>\n",
       "      <td>9-1-2020 11:54:33</td>\n",
       "      <td>Male</td>\n",
       "      <td>On (When teacher asks)</td>\n",
       "      <td>On (To answer Teacher)</td>\n",
       "      <td>Laptop</td>\n",
       "      <td>No Issue</td>\n",
       "      <td>Yes</td>\n",
       "      <td>Presentations (ppt)</td>\n",
       "      <td>Yes</td>\n",
       "      <td>Offline classes</td>\n",
       "      <td>Good</td>\n",
       "      <td>True</td>\n",
       "    </tr>\n",
       "    <tr>\n",
       "      <th>freq</th>\n",
       "      <td>1</td>\n",
       "      <td>55</td>\n",
       "      <td>39</td>\n",
       "      <td>64</td>\n",
       "      <td>31</td>\n",
       "      <td>87</td>\n",
       "      <td>73</td>\n",
       "      <td>52</td>\n",
       "      <td>65</td>\n",
       "      <td>46</td>\n",
       "      <td>3</td>\n",
       "      <td>77</td>\n",
       "    </tr>\n",
       "  </tbody>\n",
       "</table>\n",
       "</div>"
      ],
      "text/plain": [
       "                Timestamp Gender Webcam status during class  \\\n",
       "count                  87     87                         87   \n",
       "unique                 87      2                          6   \n",
       "top     9-1-2020 11:54:33   Male     On (When teacher asks)   \n",
       "freq                    1     55                         39   \n",
       "\n",
       "       Mic status during class Which device do you use for online classes?  \\\n",
       "count                       87                                          87   \n",
       "unique                       5                                          11   \n",
       "top     On (To answer Teacher)                                      Laptop   \n",
       "freq                        64                                          31   \n",
       "\n",
       "       Did you face any of the following issues after the initiation of online classes?  \\\n",
       "count                                                  87                                 \n",
       "unique                                                  1                                 \n",
       "top                                              No Issue                                 \n",
       "freq                                                   87                                 \n",
       "\n",
       "       Are you able to understand the concepts through online classes?  \\\n",
       "count                                                  87                \n",
       "unique                                                  2                \n",
       "top                                                   Yes                \n",
       "freq                                                   73                \n",
       "\n",
       "       Which teaching methodology do you prefer?  \\\n",
       "count                                         87   \n",
       "unique                                         2   \n",
       "top                          Presentations (ppt)   \n",
       "freq                                          52   \n",
       "\n",
       "       Are you interested in attending online classes?  \\\n",
       "count                                               87   \n",
       "unique                                               2   \n",
       "top                                                Yes   \n",
       "freq                                                65   \n",
       "\n",
       "       If you are given a choice between online classes and offline classes which one will you choose?  \\\n",
       "count                                                  87                                                \n",
       "unique                                                  2                                                \n",
       "top                                       Offline classes                                                \n",
       "freq                                                   46                                                \n",
       "\n",
       "       Comments on online classes active  \n",
       "count                          32     87  \n",
       "unique                         25      2  \n",
       "top                          Good   True  \n",
       "freq                            3     77  "
      ]
     },
     "execution_count": 68,
     "metadata": {},
     "output_type": "execute_result"
    }
   ],
   "source": [
    "no_issue_students.describe()"
   ]
  },
  {
   "cell_type": "markdown",
   "metadata": {},
   "source": [
    "#### Understand concepts"
   ]
  },
  {
   "cell_type": "markdown",
   "metadata": {},
   "source": [
    "Over 50% of srudents do not understand concept through online classes"
   ]
  },
  {
   "cell_type": "code",
   "execution_count": 82,
   "metadata": {},
   "outputs": [
    {
     "data": {
      "text/plain": [
       "No     0.522788\n",
       "Yes    0.477212\n",
       "Name: Are you able to understand the concepts through online classes?, dtype: float64"
      ]
     },
     "execution_count": 82,
     "metadata": {},
     "output_type": "execute_result"
    }
   ],
   "source": [
    "survey['Are you able to understand the concepts through online classes?'].value_counts(normalize = True)"
   ]
  },
  {
   "cell_type": "code",
   "execution_count": 165,
   "metadata": {},
   "outputs": [
    {
     "data": {
      "image/png": "[encoded data removed]",
      "text/plain": [
       "<Figure size 432x288 with 1 Axes>"
      ]
     },
     "metadata": {
      "needs_background": "light"
     },
     "output_type": "display_data"
    }
   ],
   "source": [
    "survey['Are you able to understand the concepts through online classes?'].value_counts().plot(kind = 'bar', fontsize = 13)\n",
    "plt.xticks(rotation = 0)\n",
    "plt.title('Are you able to understand the concepts through online classes?')\n",
    "plt.show()"
   ]
  },
  {
   "cell_type": "code",
   "execution_count": 166,
   "metadata": {},
   "outputs": [
    {
     "data": {
      "image/png": "[encoded data removed]",
      "text/plain": [
       "<Figure size 432x288 with 1 Axes>"
      ]
     },
     "metadata": {
      "needs_background": "light"
     },
     "output_type": "display_data"
    }
   ],
   "source": [
    "did_not_understand = survey.loc[survey['Are you able to understand the concepts through online classes?'] == 'No']\n",
    "did_not_understand['active'].value_counts().plot(kind = 'bar', fontsize=13)\n",
    "plt.xticks(rotation = 0)\n",
    "plt.title('Activity of students that do not understand concepts taught online')\n",
    "plt.show()"
   ]
  },
  {
   "cell_type": "markdown",
   "metadata": {},
   "source": [
    "It seems like even if students are active, they still do not understand the concepts taught."
   ]
  },
  {
   "cell_type": "markdown",
   "metadata": {},
   "source": [
    "#### Preferred Teaching Method"
   ]
  },
  {
   "cell_type": "code",
   "execution_count": 99,
   "metadata": {},
   "outputs": [
    {
     "data": {
      "text/plain": [
       "Black board teaching    515\n",
       "Presentations (ppt)     231\n",
       "Name: Which teaching methodology do you prefer?, dtype: int64"
      ]
     },
     "execution_count": 99,
     "metadata": {},
     "output_type": "execute_result"
    }
   ],
   "source": [
    "survey['Which teaching methodology do you prefer?'].value_counts()"
   ]
  },
  {
   "cell_type": "markdown",
   "metadata": {},
   "source": [
    "#### Interest in Online Classes"
   ]
  },
  {
   "cell_type": "code",
   "execution_count": 126,
   "metadata": {},
   "outputs": [
    {
     "data": {
      "text/plain": [
       "No     435\n",
       "Yes    311\n",
       "Name: Are you interested in attending online classes?, dtype: int64"
      ]
     },
     "execution_count": 126,
     "metadata": {},
     "output_type": "execute_result"
    }
   ],
   "source": [
    "survey['Are you interested in attending online classes?'].value_counts()"
   ]
  },
  {
   "cell_type": "code",
   "execution_count": 139,
   "metadata": {},
   "outputs": [],
   "source": [
    "odd_students = survey.loc[(survey['Are you able to understand the concepts through online classes?'] == 'Yes') &\n",
    "                          (survey['Did you face any of the following issues after the initiation of online classes?'] == 'No Issue') &\n",
    "                          (survey['Which teaching methodology do you prefer?'] == 'Black board teaching') &     \n",
    "                          (survey['Are you interested in attending online classes?'] == 'No')]"
   ]
  },
  {
   "cell_type": "code",
   "execution_count": 140,
   "metadata": {
    "scrolled": true
   },
   "outputs": [
    {
     "name": "stdout",
     "output_type": "stream",
     "text": [
      "(9, 12)\n"
     ]
    }
   ],
   "source": [
    "print(odd_students.shape)"
   ]
  },
  {
   "cell_type": "code",
   "execution_count": 142,
   "metadata": {},
   "outputs": [
    {
     "data": {
      "text/plain": [
       "Offline line classes are more better than the online classes                                                                                                                                                                                                                                          1\n",
       "Offline teaching has a better interactivity with the lecturers as well as with the students for a better experience of learning in my opinion. Online platforms as of right now aren?t that great for a better combined learning experience. It feels more like a presenter and audience scenario.    1\n",
       "Name: Comments on online classes, dtype: int64"
      ]
     },
     "execution_count": 142,
     "metadata": {},
     "output_type": "execute_result"
    }
   ],
   "source": [
    "odd_students['Comments on online classes'].value_counts()"
   ]
  },
  {
   "cell_type": "markdown",
   "metadata": {},
   "source": [
    "#### Online vs Offline classes"
   ]
  },
  {
   "cell_type": "code",
   "execution_count": 143,
   "metadata": {},
   "outputs": [
    {
     "data": {
      "text/html": [
       "<div>\n",
       "<style scoped>\n",
       "    .dataframe tbody tr th:only-of-type {\n",
       "        vertical-align: middle;\n",
       "    }\n",
       "\n",
       "    .dataframe tbody tr th {\n",
       "        vertical-align: top;\n",
       "    }\n",
       "\n",
       "    .dataframe thead th {\n",
       "        text-align: right;\n",
       "    }\n",
       "</style>\n",
       "<table border=\"1\" class=\"dataframe\">\n",
       "  <thead>\n",
       "    <tr style=\"text-align: right;\">\n",
       "      <th></th>\n",
       "      <th>Timestamp</th>\n",
       "      <th>Gender</th>\n",
       "      <th>Webcam status during class</th>\n",
       "      <th>Mic status during class</th>\n",
       "      <th>Which device do you use for online classes?</th>\n",
       "      <th>Did you face any of the following issues after the initiation of online classes?</th>\n",
       "      <th>Are you able to understand the concepts through online classes?</th>\n",
       "      <th>Which teaching methodology do you prefer?</th>\n",
       "      <th>Are you interested in attending online classes?</th>\n",
       "      <th>If you are given a choice between online classes and offline classes which one will you choose?</th>\n",
       "      <th>Comments on online classes</th>\n",
       "      <th>active</th>\n",
       "    </tr>\n",
       "  </thead>\n",
       "  <tbody>\n",
       "    <tr>\n",
       "      <th>0</th>\n",
       "      <td>8-31-2020 10:24:49</td>\n",
       "      <td>Male</td>\n",
       "      <td>Off (Other reason)</td>\n",
       "      <td>On (To answer Teacher)</td>\n",
       "      <td>Laptop</td>\n",
       "      <td>Eye Strain, Headache</td>\n",
       "      <td>Yes</td>\n",
       "      <td>Black board teaching</td>\n",
       "      <td>Yes</td>\n",
       "      <td>Offline classes</td>\n",
       "      <td>NaN</td>\n",
       "      <td>True</td>\n",
       "    </tr>\n",
       "  </tbody>\n",
       "</table>\n",
       "</div>"
      ],
      "text/plain": [
       "            Timestamp Gender Webcam status during class  \\\n",
       "0  8-31-2020 10:24:49   Male         Off (Other reason)   \n",
       "\n",
       "  Mic status during class Which device do you use for online classes?  \\\n",
       "0  On (To answer Teacher)                                      Laptop   \n",
       "\n",
       "  Did you face any of the following issues after the initiation of online classes?  \\\n",
       "0                               Eye Strain, Headache                                 \n",
       "\n",
       "  Are you able to understand the concepts through online classes?  \\\n",
       "0                                                Yes                \n",
       "\n",
       "  Which teaching methodology do you prefer?  \\\n",
       "0                      Black board teaching   \n",
       "\n",
       "  Are you interested in attending online classes?  \\\n",
       "0                                             Yes   \n",
       "\n",
       "  If you are given a choice between online classes and offline classes which one will you choose?  \\\n",
       "0                                    Offline classes                                                \n",
       "\n",
       "  Comments on online classes  active  \n",
       "0                        NaN    True  "
      ]
     },
     "execution_count": 143,
     "metadata": {},
     "output_type": "execute_result"
    }
   ],
   "source": [
    "survey.head(1)"
   ]
  },
  {
   "cell_type": "code",
   "execution_count": 146,
   "metadata": {},
   "outputs": [
    {
     "data": {
      "text/plain": [
       "Offline classes    585\n",
       "Online classes     161\n",
       "Name: If you are given a choice between online classes and offline classes which one will you choose?, dtype: int64"
      ]
     },
     "execution_count": 146,
     "metadata": {},
     "output_type": "execute_result"
    }
   ],
   "source": [
    "survey['If you are given a choice between online classes and offline classes which one will you choose?'].value_counts()"
   ]
  },
  {
   "cell_type": "code",
   "execution_count": 150,
   "metadata": {},
   "outputs": [
    {
     "data": {
      "image/png": "[encoded data removed]",
      "text/plain": [
       "<Figure size 360x360 with 1 Axes>"
      ]
     },
     "metadata": {},
     "output_type": "display_data"
    }
   ],
   "source": [
    "survey['If you are given a choice between online classes and offline classes which one will you choose?'].value_counts(normalize = True).plot(figsize = (5,5), kind = 'pie', ylabel = '', autopct='%1.1f%%', startangle=270, fontsize=12)\n",
    "plt.legend(['Offline','Online'], loc = 'upper left')\n",
    "plt.show()"
   ]
  },
  {
   "cell_type": "markdown",
   "metadata": {},
   "source": [
    "Most students prefer offline classes"
   ]
  },
  {
   "cell_type": "code",
   "execution_count": 169,
   "metadata": {},
   "outputs": [],
   "source": [
    "online_students = survey.loc[survey['If you are given a choice between online classes and offline classes which one will you choose?'] == 'Online classes']"
   ]
  },
  {
   "cell_type": "code",
   "execution_count": 170,
   "metadata": {},
   "outputs": [
    {
     "data": {
      "text/html": [
       "<div>\n",
       "<style scoped>\n",
       "    .dataframe tbody tr th:only-of-type {\n",
       "        vertical-align: middle;\n",
       "    }\n",
       "\n",
       "    .dataframe tbody tr th {\n",
       "        vertical-align: top;\n",
       "    }\n",
       "\n",
       "    .dataframe thead th {\n",
       "        text-align: right;\n",
       "    }\n",
       "</style>\n",
       "<table border=\"1\" class=\"dataframe\">\n",
       "  <thead>\n",
       "    <tr style=\"text-align: right;\">\n",
       "      <th></th>\n",
       "      <th>Timestamp</th>\n",
       "      <th>Gender</th>\n",
       "      <th>Webcam status during class</th>\n",
       "      <th>Mic status during class</th>\n",
       "      <th>Which device do you use for online classes?</th>\n",
       "      <th>Did you face any of the following issues after the initiation of online classes?</th>\n",
       "      <th>Are you able to understand the concepts through online classes?</th>\n",
       "      <th>Which teaching methodology do you prefer?</th>\n",
       "      <th>Are you interested in attending online classes?</th>\n",
       "      <th>If you are given a choice between online classes and offline classes which one will you choose?</th>\n",
       "      <th>Comments on online classes</th>\n",
       "      <th>active</th>\n",
       "    </tr>\n",
       "  </thead>\n",
       "  <tbody>\n",
       "    <tr>\n",
       "      <th>count</th>\n",
       "      <td>161</td>\n",
       "      <td>161</td>\n",
       "      <td>161</td>\n",
       "      <td>161</td>\n",
       "      <td>161</td>\n",
       "      <td>161</td>\n",
       "      <td>161</td>\n",
       "      <td>161</td>\n",
       "      <td>161</td>\n",
       "      <td>161</td>\n",
       "      <td>65</td>\n",
       "      <td>161</td>\n",
       "    </tr>\n",
       "    <tr>\n",
       "      <th>unique</th>\n",
       "      <td>161</td>\n",
       "      <td>2</td>\n",
       "      <td>6</td>\n",
       "      <td>5</td>\n",
       "      <td>13</td>\n",
       "      <td>25</td>\n",
       "      <td>2</td>\n",
       "      <td>2</td>\n",
       "      <td>2</td>\n",
       "      <td>1</td>\n",
       "      <td>35</td>\n",
       "      <td>2</td>\n",
       "    </tr>\n",
       "    <tr>\n",
       "      <th>top</th>\n",
       "      <td>8-31-2020 18:03:18</td>\n",
       "      <td>Male</td>\n",
       "      <td>On (When teacher asks)</td>\n",
       "      <td>On (To answer Teacher)</td>\n",
       "      <td>Laptop</td>\n",
       "      <td>No Issue</td>\n",
       "      <td>Yes</td>\n",
       "      <td>Presentations (ppt)</td>\n",
       "      <td>Yes</td>\n",
       "      <td>Online classes</td>\n",
       "      <td>Good</td>\n",
       "      <td>True</td>\n",
       "    </tr>\n",
       "    <tr>\n",
       "      <th>freq</th>\n",
       "      <td>1</td>\n",
       "      <td>101</td>\n",
       "      <td>60</td>\n",
       "      <td>90</td>\n",
       "      <td>54</td>\n",
       "      <td>41</td>\n",
       "      <td>132</td>\n",
       "      <td>100</td>\n",
       "      <td>138</td>\n",
       "      <td>161</td>\n",
       "      <td>12</td>\n",
       "      <td>128</td>\n",
       "    </tr>\n",
       "  </tbody>\n",
       "</table>\n",
       "</div>"
      ],
      "text/plain": [
       "                 Timestamp Gender Webcam status during class  \\\n",
       "count                  161    161                        161   \n",
       "unique                 161      2                          6   \n",
       "top     8-31-2020 18:03:18   Male     On (When teacher asks)   \n",
       "freq                     1    101                         60   \n",
       "\n",
       "       Mic status during class Which device do you use for online classes?  \\\n",
       "count                      161                                         161   \n",
       "unique                       5                                          13   \n",
       "top     On (To answer Teacher)                                      Laptop   \n",
       "freq                        90                                          54   \n",
       "\n",
       "       Did you face any of the following issues after the initiation of online classes?  \\\n",
       "count                                                 161                                 \n",
       "unique                                                 25                                 \n",
       "top                                              No Issue                                 \n",
       "freq                                                   41                                 \n",
       "\n",
       "       Are you able to understand the concepts through online classes?  \\\n",
       "count                                                 161                \n",
       "unique                                                  2                \n",
       "top                                                   Yes                \n",
       "freq                                                  132                \n",
       "\n",
       "       Which teaching methodology do you prefer?  \\\n",
       "count                                        161   \n",
       "unique                                         2   \n",
       "top                          Presentations (ppt)   \n",
       "freq                                         100   \n",
       "\n",
       "       Are you interested in attending online classes?  \\\n",
       "count                                              161   \n",
       "unique                                               2   \n",
       "top                                                Yes   \n",
       "freq                                               138   \n",
       "\n",
       "       If you are given a choice between online classes and offline classes which one will you choose?  \\\n",
       "count                                                 161                                                \n",
       "unique                                                  1                                                \n",
       "top                                        Online classes                                                \n",
       "freq                                                  161                                                \n",
       "\n",
       "       Comments on online classes active  \n",
       "count                          65    161  \n",
       "unique                         35      2  \n",
       "top                          Good   True  \n",
       "freq                           12    128  "
      ]
     },
     "execution_count": 170,
     "metadata": {},
     "output_type": "execute_result"
    }
   ],
   "source": [
    "online_students.describe()"
   ]
  },
  {
   "cell_type": "markdown",
   "metadata": {},
   "source": [
    "The survey answers of students that preferred online classes are kind of identical to those who faced no issues (presented in earlier sections)"
   ]
  },
  {
   "cell_type": "code",
   "execution_count": 177,
   "metadata": {},
   "outputs": [
    {
     "data": {
      "text/html": [
       "<div>\n",
       "<style scoped>\n",
       "    .dataframe tbody tr th:only-of-type {\n",
       "        vertical-align: middle;\n",
       "    }\n",
       "\n",
       "    .dataframe tbody tr th {\n",
       "        vertical-align: top;\n",
       "    }\n",
       "\n",
       "    .dataframe thead th {\n",
       "        text-align: right;\n",
       "    }\n",
       "</style>\n",
       "<table border=\"1\" class=\"dataframe\">\n",
       "  <thead>\n",
       "    <tr style=\"text-align: right;\">\n",
       "      <th></th>\n",
       "      <th>Timestamp</th>\n",
       "      <th>Gender</th>\n",
       "      <th>Webcam status during class</th>\n",
       "      <th>Mic status during class</th>\n",
       "      <th>Which device do you use for online classes?</th>\n",
       "      <th>Did you face any of the following issues after the initiation of online classes?</th>\n",
       "      <th>Are you able to understand the concepts through online classes?</th>\n",
       "      <th>Which teaching methodology do you prefer?</th>\n",
       "      <th>Are you interested in attending online classes?</th>\n",
       "      <th>If you are given a choice between online classes and offline classes which one will you choose?</th>\n",
       "      <th>Comments on online classes</th>\n",
       "      <th>active</th>\n",
       "    </tr>\n",
       "  </thead>\n",
       "  <tbody>\n",
       "    <tr>\n",
       "      <th>178</th>\n",
       "      <td>8-31-2020 18:40:01</td>\n",
       "      <td>Male</td>\n",
       "      <td>Off (No webcam available)</td>\n",
       "      <td>Off (No mic available)</td>\n",
       "      <td>Computer</td>\n",
       "      <td>Eye Strain, Headache</td>\n",
       "      <td>Yes</td>\n",
       "      <td>Presentations (ppt)</td>\n",
       "      <td>Yes</td>\n",
       "      <td>Online classes</td>\n",
       "      <td>We can't continuously listen to class in onlin...</td>\n",
       "      <td>False</td>\n",
       "    </tr>\n",
       "    <tr>\n",
       "      <th>213</th>\n",
       "      <td>8-31-2020 18:58:46</td>\n",
       "      <td>Male</td>\n",
       "      <td>Off (Other reason)</td>\n",
       "      <td>Off (Other reason)</td>\n",
       "      <td>Phone</td>\n",
       "      <td>Eye Strain, Back pain, Headache</td>\n",
       "      <td>Yes</td>\n",
       "      <td>Presentations (ppt)</td>\n",
       "      <td>Yes</td>\n",
       "      <td>Online classes</td>\n",
       "      <td>n</td>\n",
       "      <td>False</td>\n",
       "    </tr>\n",
       "    <tr>\n",
       "      <th>252</th>\n",
       "      <td>8-31-2020 19:43:11</td>\n",
       "      <td>Male</td>\n",
       "      <td>Off (No webcam available)</td>\n",
       "      <td>Off (Other reason)</td>\n",
       "      <td>Phone</td>\n",
       "      <td>Eye Strain, Headache</td>\n",
       "      <td>No</td>\n",
       "      <td>Black board teaching</td>\n",
       "      <td>No</td>\n",
       "      <td>Online classes</td>\n",
       "      <td>NaN</td>\n",
       "      <td>False</td>\n",
       "    </tr>\n",
       "    <tr>\n",
       "      <th>269</th>\n",
       "      <td>8-31-2020 19:54:42</td>\n",
       "      <td>Female</td>\n",
       "      <td>Off (Other reason)</td>\n",
       "      <td>Off (No mic available)</td>\n",
       "      <td>Laptop</td>\n",
       "      <td>Eye Strain, Back pain, Headache, Stress</td>\n",
       "      <td>Yes</td>\n",
       "      <td>Black board teaching</td>\n",
       "      <td>Yes</td>\n",
       "      <td>Online classes</td>\n",
       "      <td>Good</td>\n",
       "      <td>False</td>\n",
       "    </tr>\n",
       "    <tr>\n",
       "      <th>293</th>\n",
       "      <td>8-31-2020 20:36:45</td>\n",
       "      <td>Male</td>\n",
       "      <td>Off (Other reason)</td>\n",
       "      <td>Off (Other reason)</td>\n",
       "      <td>Laptop</td>\n",
       "      <td>Eye Strain, Back pain, Headache, Stress, Other</td>\n",
       "      <td>Yes</td>\n",
       "      <td>Presentations (ppt)</td>\n",
       "      <td>Yes</td>\n",
       "      <td>Online classes</td>\n",
       "      <td>NaN</td>\n",
       "      <td>False</td>\n",
       "    </tr>\n",
       "    <tr>\n",
       "      <th>359</th>\n",
       "      <td>9-1-2020 10:02:22</td>\n",
       "      <td>Male</td>\n",
       "      <td>Off (No webcam available)</td>\n",
       "      <td>Off (No mic available)</td>\n",
       "      <td>Computer</td>\n",
       "      <td>Eye Strain, Back pain, Headache, Stress</td>\n",
       "      <td>Yes</td>\n",
       "      <td>Presentations (ppt)</td>\n",
       "      <td>Yes</td>\n",
       "      <td>Online classes</td>\n",
       "      <td>NaN</td>\n",
       "      <td>False</td>\n",
       "    </tr>\n",
       "    <tr>\n",
       "      <th>370</th>\n",
       "      <td>9-1-2020 11:54:33</td>\n",
       "      <td>Male</td>\n",
       "      <td>Off (Other reason)</td>\n",
       "      <td>Off (Other reason)</td>\n",
       "      <td>Phone</td>\n",
       "      <td>No Issue</td>\n",
       "      <td>Yes</td>\n",
       "      <td>Presentations (ppt)</td>\n",
       "      <td>Yes</td>\n",
       "      <td>Online classes</td>\n",
       "      <td>As per the schedule given to every student in ...</td>\n",
       "      <td>False</td>\n",
       "    </tr>\n",
       "    <tr>\n",
       "      <th>372</th>\n",
       "      <td>9-1-2020 12:45:42</td>\n",
       "      <td>Male</td>\n",
       "      <td>Off (No webcam available)</td>\n",
       "      <td>Off (Do not want to reply)</td>\n",
       "      <td>Phone, Laptop</td>\n",
       "      <td>Eye Strain, Back pain, Headache, Stress</td>\n",
       "      <td>No</td>\n",
       "      <td>Black board teaching</td>\n",
       "      <td>Yes</td>\n",
       "      <td>Online classes</td>\n",
       "      <td>NaN</td>\n",
       "      <td>False</td>\n",
       "    </tr>\n",
       "    <tr>\n",
       "      <th>402</th>\n",
       "      <td>9-2-2020 13:50:27</td>\n",
       "      <td>Female</td>\n",
       "      <td>Off (Shy to switch on)</td>\n",
       "      <td>Off (Do not want to reply)</td>\n",
       "      <td>Tab</td>\n",
       "      <td>Back pain, Stress, Other</td>\n",
       "      <td>Yes</td>\n",
       "      <td>Presentations (ppt)</td>\n",
       "      <td>Yes</td>\n",
       "      <td>Online classes</td>\n",
       "      <td>None</td>\n",
       "      <td>False</td>\n",
       "    </tr>\n",
       "    <tr>\n",
       "      <th>405</th>\n",
       "      <td>9-2-2020 13:51:37</td>\n",
       "      <td>Male</td>\n",
       "      <td>Off (Shy to switch on)</td>\n",
       "      <td>Off (Do not want to reply)</td>\n",
       "      <td>Tab</td>\n",
       "      <td>Eye Strain, Back pain, Headache</td>\n",
       "      <td>Yes</td>\n",
       "      <td>Presentations (ppt)</td>\n",
       "      <td>Yes</td>\n",
       "      <td>Online classes</td>\n",
       "      <td>None</td>\n",
       "      <td>False</td>\n",
       "    </tr>\n",
       "    <tr>\n",
       "      <th>415</th>\n",
       "      <td>9-2-2020 14:13:12</td>\n",
       "      <td>Male</td>\n",
       "      <td>Off (Other reason)</td>\n",
       "      <td>Off (Other reason)</td>\n",
       "      <td>Phone</td>\n",
       "      <td>No Issue</td>\n",
       "      <td>Yes</td>\n",
       "      <td>Presentations (ppt)</td>\n",
       "      <td>Yes</td>\n",
       "      <td>Online classes</td>\n",
       "      <td>As per the schedule given to every student in ...</td>\n",
       "      <td>False</td>\n",
       "    </tr>\n",
       "    <tr>\n",
       "      <th>427</th>\n",
       "      <td>9-2-2020 20:40:36</td>\n",
       "      <td>Male</td>\n",
       "      <td>Off (Untidy appearance)</td>\n",
       "      <td>Off (Other reason)</td>\n",
       "      <td>Computer</td>\n",
       "      <td>No Issue</td>\n",
       "      <td>Yes</td>\n",
       "      <td>Presentations (ppt)</td>\n",
       "      <td>No</td>\n",
       "      <td>Online classes</td>\n",
       "      <td>NaN</td>\n",
       "      <td>False</td>\n",
       "    </tr>\n",
       "    <tr>\n",
       "      <th>439</th>\n",
       "      <td>9-3-2020 13:24:42</td>\n",
       "      <td>Female</td>\n",
       "      <td>Off (Shy to switch on)</td>\n",
       "      <td>Off (No mic available)</td>\n",
       "      <td>Laptop</td>\n",
       "      <td>Stress</td>\n",
       "      <td>Yes</td>\n",
       "      <td>Presentations (ppt)</td>\n",
       "      <td>Yes</td>\n",
       "      <td>Online classes</td>\n",
       "      <td>NaN</td>\n",
       "      <td>False</td>\n",
       "    </tr>\n",
       "    <tr>\n",
       "      <th>440</th>\n",
       "      <td>9-3-2020 13:25:19</td>\n",
       "      <td>Female</td>\n",
       "      <td>Off (No webcam available)</td>\n",
       "      <td>Off (Do not want to reply)</td>\n",
       "      <td>Phone, Tab</td>\n",
       "      <td>Eye Strain</td>\n",
       "      <td>Yes</td>\n",
       "      <td>Presentations (ppt)</td>\n",
       "      <td>Yes</td>\n",
       "      <td>Online classes</td>\n",
       "      <td>NaN</td>\n",
       "      <td>False</td>\n",
       "    </tr>\n",
       "    <tr>\n",
       "      <th>499</th>\n",
       "      <td>9-3-2020 13:51:54</td>\n",
       "      <td>Female</td>\n",
       "      <td>Off (Other reason)</td>\n",
       "      <td>Off (Other reason)</td>\n",
       "      <td>Laptop</td>\n",
       "      <td>Other</td>\n",
       "      <td>Yes</td>\n",
       "      <td>Black board teaching</td>\n",
       "      <td>Yes</td>\n",
       "      <td>Online classes</td>\n",
       "      <td>good</td>\n",
       "      <td>False</td>\n",
       "    </tr>\n",
       "    <tr>\n",
       "      <th>502</th>\n",
       "      <td>9-3-2020 13:53:54</td>\n",
       "      <td>Male</td>\n",
       "      <td>Off (Untidy appearance)</td>\n",
       "      <td>Off (Do not want to reply)</td>\n",
       "      <td>Phone</td>\n",
       "      <td>Headache, Stress</td>\n",
       "      <td>Yes</td>\n",
       "      <td>Black board teaching</td>\n",
       "      <td>Yes</td>\n",
       "      <td>Online classes</td>\n",
       "      <td>NaN</td>\n",
       "      <td>False</td>\n",
       "    </tr>\n",
       "    <tr>\n",
       "      <th>517</th>\n",
       "      <td>9-3-2020 13:58:33</td>\n",
       "      <td>Female</td>\n",
       "      <td>Off (Untidy appearance)</td>\n",
       "      <td>Off (Do not want to reply)</td>\n",
       "      <td>Computer</td>\n",
       "      <td>Back pain, Stress</td>\n",
       "      <td>Yes</td>\n",
       "      <td>Presentations (ppt)</td>\n",
       "      <td>Yes</td>\n",
       "      <td>Online classes</td>\n",
       "      <td>Important in this pandemic situation</td>\n",
       "      <td>False</td>\n",
       "    </tr>\n",
       "    <tr>\n",
       "      <th>556</th>\n",
       "      <td>9-3-2020 14:20:21</td>\n",
       "      <td>Male</td>\n",
       "      <td>Off (Untidy appearance)</td>\n",
       "      <td>Off (Do not want to reply)</td>\n",
       "      <td>Laptop, Computer</td>\n",
       "      <td>Eye Strain, Back pain, Headache, Stress, Other</td>\n",
       "      <td>Yes</td>\n",
       "      <td>Black board teaching</td>\n",
       "      <td>Yes</td>\n",
       "      <td>Online classes</td>\n",
       "      <td>Nothing</td>\n",
       "      <td>False</td>\n",
       "    </tr>\n",
       "    <tr>\n",
       "      <th>565</th>\n",
       "      <td>9-3-2020 14:24:09</td>\n",
       "      <td>Female</td>\n",
       "      <td>Off (Other reason)</td>\n",
       "      <td>Off (Other reason)</td>\n",
       "      <td>Laptop</td>\n",
       "      <td>Headache</td>\n",
       "      <td>Yes</td>\n",
       "      <td>Black board teaching</td>\n",
       "      <td>Yes</td>\n",
       "      <td>Online classes</td>\n",
       "      <td>NaN</td>\n",
       "      <td>False</td>\n",
       "    </tr>\n",
       "    <tr>\n",
       "      <th>631</th>\n",
       "      <td>9-3-2020 14:35:24</td>\n",
       "      <td>Male</td>\n",
       "      <td>Off (Shy to switch on)</td>\n",
       "      <td>Off (Do not want to reply)</td>\n",
       "      <td>Phone</td>\n",
       "      <td>Eye Strain, Back pain, Headache, Stress, Other</td>\n",
       "      <td>No</td>\n",
       "      <td>Presentations (ppt)</td>\n",
       "      <td>Yes</td>\n",
       "      <td>Online classes</td>\n",
       "      <td>NaN</td>\n",
       "      <td>False</td>\n",
       "    </tr>\n",
       "    <tr>\n",
       "      <th>652</th>\n",
       "      <td>9-3-2020 14:38:59</td>\n",
       "      <td>Male</td>\n",
       "      <td>Off (Untidy appearance)</td>\n",
       "      <td>Off (No mic available)</td>\n",
       "      <td>Phone, Laptop</td>\n",
       "      <td>Other</td>\n",
       "      <td>No</td>\n",
       "      <td>Presentations (ppt)</td>\n",
       "      <td>No</td>\n",
       "      <td>Online classes</td>\n",
       "      <td>NaN</td>\n",
       "      <td>False</td>\n",
       "    </tr>\n",
       "    <tr>\n",
       "      <th>654</th>\n",
       "      <td>9-3-2020 14:39:24</td>\n",
       "      <td>Female</td>\n",
       "      <td>Off (Untidy appearance)</td>\n",
       "      <td>Off (Other reason)</td>\n",
       "      <td>Phone, Laptop, Computer</td>\n",
       "      <td>Stress</td>\n",
       "      <td>Yes</td>\n",
       "      <td>Black board teaching</td>\n",
       "      <td>Yes</td>\n",
       "      <td>Online classes</td>\n",
       "      <td>NaN</td>\n",
       "      <td>False</td>\n",
       "    </tr>\n",
       "    <tr>\n",
       "      <th>662</th>\n",
       "      <td>9-3-2020 14:41:40</td>\n",
       "      <td>Female</td>\n",
       "      <td>Off (Other reason)</td>\n",
       "      <td>Off (Other reason)</td>\n",
       "      <td>Computer</td>\n",
       "      <td>Other</td>\n",
       "      <td>Yes</td>\n",
       "      <td>Presentations (ppt)</td>\n",
       "      <td>Yes</td>\n",
       "      <td>Online classes</td>\n",
       "      <td>NaN</td>\n",
       "      <td>False</td>\n",
       "    </tr>\n",
       "    <tr>\n",
       "      <th>667</th>\n",
       "      <td>9-3-2020 14:42:32</td>\n",
       "      <td>Female</td>\n",
       "      <td>Off (Shy to switch on)</td>\n",
       "      <td>Off (Do not want to reply)</td>\n",
       "      <td>Laptop</td>\n",
       "      <td>Headache</td>\n",
       "      <td>No</td>\n",
       "      <td>Black board teaching</td>\n",
       "      <td>No</td>\n",
       "      <td>Online classes</td>\n",
       "      <td>Offline is better</td>\n",
       "      <td>False</td>\n",
       "    </tr>\n",
       "    <tr>\n",
       "      <th>680</th>\n",
       "      <td>9-3-2020 14:44:03</td>\n",
       "      <td>Male</td>\n",
       "      <td>Off (Shy to switch on)</td>\n",
       "      <td>Off (Do not want to reply)</td>\n",
       "      <td>Laptop</td>\n",
       "      <td>Eye Strain, Back pain, Stress</td>\n",
       "      <td>No</td>\n",
       "      <td>Black board teaching</td>\n",
       "      <td>Yes</td>\n",
       "      <td>Online classes</td>\n",
       "      <td>NaN</td>\n",
       "      <td>False</td>\n",
       "    </tr>\n",
       "    <tr>\n",
       "      <th>688</th>\n",
       "      <td>9-3-2020 14:46:33</td>\n",
       "      <td>Male</td>\n",
       "      <td>Off (No webcam available)</td>\n",
       "      <td>Off (Do not want to reply)</td>\n",
       "      <td>Tab</td>\n",
       "      <td>Headache, Stress</td>\n",
       "      <td>No</td>\n",
       "      <td>Black board teaching</td>\n",
       "      <td>Yes</td>\n",
       "      <td>Online classes</td>\n",
       "      <td>NaN</td>\n",
       "      <td>False</td>\n",
       "    </tr>\n",
       "    <tr>\n",
       "      <th>704</th>\n",
       "      <td>9-3-2020 15:50:15</td>\n",
       "      <td>Male</td>\n",
       "      <td>Off (Untidy appearance)</td>\n",
       "      <td>Off (Do not want to reply)</td>\n",
       "      <td>Phone, Tab</td>\n",
       "      <td>Eye Strain, Back pain</td>\n",
       "      <td>Yes</td>\n",
       "      <td>Black board teaching</td>\n",
       "      <td>No</td>\n",
       "      <td>Online classes</td>\n",
       "      <td>NaN</td>\n",
       "      <td>False</td>\n",
       "    </tr>\n",
       "    <tr>\n",
       "      <th>713</th>\n",
       "      <td>9-3-2020 18:49:54</td>\n",
       "      <td>Male</td>\n",
       "      <td>Off (No webcam available)</td>\n",
       "      <td>Off (No mic available)</td>\n",
       "      <td>Computer</td>\n",
       "      <td>Eye Strain, Back pain</td>\n",
       "      <td>Yes</td>\n",
       "      <td>Presentations (ppt)</td>\n",
       "      <td>Yes</td>\n",
       "      <td>Online classes</td>\n",
       "      <td>NaN</td>\n",
       "      <td>False</td>\n",
       "    </tr>\n",
       "    <tr>\n",
       "      <th>716</th>\n",
       "      <td>9-3-2020 19:03:59</td>\n",
       "      <td>Female</td>\n",
       "      <td>Off (Untidy appearance)</td>\n",
       "      <td>Off (No mic available)</td>\n",
       "      <td>Phone, Laptop</td>\n",
       "      <td>No Issue</td>\n",
       "      <td>Yes</td>\n",
       "      <td>Black board teaching</td>\n",
       "      <td>No</td>\n",
       "      <td>Online classes</td>\n",
       "      <td>NaN</td>\n",
       "      <td>False</td>\n",
       "    </tr>\n",
       "    <tr>\n",
       "      <th>718</th>\n",
       "      <td>9-3-2020 19:05:29</td>\n",
       "      <td>Male</td>\n",
       "      <td>Off (Untidy appearance)</td>\n",
       "      <td>Off (Other reason)</td>\n",
       "      <td>Tab</td>\n",
       "      <td>Back pain, Headache</td>\n",
       "      <td>Yes</td>\n",
       "      <td>Presentations (ppt)</td>\n",
       "      <td>Yes</td>\n",
       "      <td>Online classes</td>\n",
       "      <td>NaN</td>\n",
       "      <td>False</td>\n",
       "    </tr>\n",
       "    <tr>\n",
       "      <th>719</th>\n",
       "      <td>9-3-2020 19:06:36</td>\n",
       "      <td>Female</td>\n",
       "      <td>Off (No webcam available)</td>\n",
       "      <td>Off (No mic available)</td>\n",
       "      <td>Computer</td>\n",
       "      <td>Other</td>\n",
       "      <td>Yes</td>\n",
       "      <td>Black board teaching</td>\n",
       "      <td>Yes</td>\n",
       "      <td>Online classes</td>\n",
       "      <td>Health issues</td>\n",
       "      <td>False</td>\n",
       "    </tr>\n",
       "    <tr>\n",
       "      <th>725</th>\n",
       "      <td>9-3-2020 19:18:34</td>\n",
       "      <td>Female</td>\n",
       "      <td>Off (Shy to switch on)</td>\n",
       "      <td>Off (Do not want to reply)</td>\n",
       "      <td>Tab, Laptop</td>\n",
       "      <td>Eye Strain</td>\n",
       "      <td>Yes</td>\n",
       "      <td>Presentations (ppt)</td>\n",
       "      <td>Yes</td>\n",
       "      <td>Online classes</td>\n",
       "      <td>Can be at home :)</td>\n",
       "      <td>False</td>\n",
       "    </tr>\n",
       "    <tr>\n",
       "      <th>730</th>\n",
       "      <td>9-3-2020 19:27:03</td>\n",
       "      <td>Female</td>\n",
       "      <td>Off (Shy to switch on)</td>\n",
       "      <td>Off (Do not want to reply)</td>\n",
       "      <td>Phone, Tab, Laptop, Computer</td>\n",
       "      <td>Back pain, Stress</td>\n",
       "      <td>Yes</td>\n",
       "      <td>Presentations (ppt)</td>\n",
       "      <td>Yes</td>\n",
       "      <td>Online classes</td>\n",
       "      <td>NaN</td>\n",
       "      <td>False</td>\n",
       "    </tr>\n",
       "  </tbody>\n",
       "</table>\n",
       "</div>"
      ],
      "text/plain": [
       "              Timestamp  Gender Webcam status during class  \\\n",
       "178  8-31-2020 18:40:01    Male  Off (No webcam available)   \n",
       "213  8-31-2020 18:58:46    Male         Off (Other reason)   \n",
       "252  8-31-2020 19:43:11    Male  Off (No webcam available)   \n",
       "269  8-31-2020 19:54:42  Female         Off (Other reason)   \n",
       "293  8-31-2020 20:36:45    Male         Off (Other reason)   \n",
       "359   9-1-2020 10:02:22    Male  Off (No webcam available)   \n",
       "370   9-1-2020 11:54:33    Male         Off (Other reason)   \n",
       "372   9-1-2020 12:45:42    Male  Off (No webcam available)   \n",
       "402   9-2-2020 13:50:27  Female     Off (Shy to switch on)   \n",
       "405   9-2-2020 13:51:37    Male     Off (Shy to switch on)   \n",
       "415   9-2-2020 14:13:12    Male         Off (Other reason)   \n",
       "427   9-2-2020 20:40:36    Male    Off (Untidy appearance)   \n",
       "439   9-3-2020 13:24:42  Female     Off (Shy to switch on)   \n",
       "440   9-3-2020 13:25:19  Female  Off (No webcam available)   \n",
       "499   9-3-2020 13:51:54  Female         Off (Other reason)   \n",
       "502   9-3-2020 13:53:54    Male    Off (Untidy appearance)   \n",
       "517   9-3-2020 13:58:33  Female    Off (Untidy appearance)   \n",
       "556   9-3-2020 14:20:21    Male    Off (Untidy appearance)   \n",
       "565   9-3-2020 14:24:09  Female         Off (Other reason)   \n",
       "631   9-3-2020 14:35:24    Male     Off (Shy to switch on)   \n",
       "652   9-3-2020 14:38:59    Male    Off (Untidy appearance)   \n",
       "654   9-3-2020 14:39:24  Female    Off (Untidy appearance)   \n",
       "662   9-3-2020 14:41:40  Female         Off (Other reason)   \n",
       "667   9-3-2020 14:42:32  Female     Off (Shy to switch on)   \n",
       "680   9-3-2020 14:44:03    Male     Off (Shy to switch on)   \n",
       "688   9-3-2020 14:46:33    Male  Off (No webcam available)   \n",
       "704   9-3-2020 15:50:15    Male    Off (Untidy appearance)   \n",
       "713   9-3-2020 18:49:54    Male  Off (No webcam available)   \n",
       "716   9-3-2020 19:03:59  Female    Off (Untidy appearance)   \n",
       "718   9-3-2020 19:05:29    Male    Off (Untidy appearance)   \n",
       "719   9-3-2020 19:06:36  Female  Off (No webcam available)   \n",
       "725   9-3-2020 19:18:34  Female     Off (Shy to switch on)   \n",
       "730   9-3-2020 19:27:03  Female     Off (Shy to switch on)   \n",
       "\n",
       "        Mic status during class Which device do you use for online classes?  \\\n",
       "178      Off (No mic available)                                    Computer   \n",
       "213          Off (Other reason)                                       Phone   \n",
       "252          Off (Other reason)                                       Phone   \n",
       "269      Off (No mic available)                                      Laptop   \n",
       "293          Off (Other reason)                                      Laptop   \n",
       "359      Off (No mic available)                                    Computer   \n",
       "370          Off (Other reason)                                       Phone   \n",
       "372  Off (Do not want to reply)                               Phone, Laptop   \n",
       "402  Off (Do not want to reply)                                         Tab   \n",
       "405  Off (Do not want to reply)                                         Tab   \n",
       "415          Off (Other reason)                                       Phone   \n",
       "427          Off (Other reason)                                    Computer   \n",
       "439      Off (No mic available)                                      Laptop   \n",
       "440  Off (Do not want to reply)                                  Phone, Tab   \n",
       "499          Off (Other reason)                                      Laptop   \n",
       "502  Off (Do not want to reply)                                       Phone   \n",
       "517  Off (Do not want to reply)                                    Computer   \n",
       "556  Off (Do not want to reply)                            Laptop, Computer   \n",
       "565          Off (Other reason)                                      Laptop   \n",
       "631  Off (Do not want to reply)                                       Phone   \n",
       "652      Off (No mic available)                               Phone, Laptop   \n",
       "654          Off (Other reason)                     Phone, Laptop, Computer   \n",
       "662          Off (Other reason)                                    Computer   \n",
       "667  Off (Do not want to reply)                                      Laptop   \n",
       "680  Off (Do not want to reply)                                      Laptop   \n",
       "688  Off (Do not want to reply)                                         Tab   \n",
       "704  Off (Do not want to reply)                                  Phone, Tab   \n",
       "713      Off (No mic available)                                    Computer   \n",
       "716      Off (No mic available)                               Phone, Laptop   \n",
       "718          Off (Other reason)                                         Tab   \n",
       "719      Off (No mic available)                                    Computer   \n",
       "725  Off (Do not want to reply)                                 Tab, Laptop   \n",
       "730  Off (Do not want to reply)                Phone, Tab, Laptop, Computer   \n",
       "\n",
       "    Did you face any of the following issues after the initiation of online classes?  \\\n",
       "178                               Eye Strain, Headache                                 \n",
       "213                    Eye Strain, Back pain, Headache                                 \n",
       "252                               Eye Strain, Headache                                 \n",
       "269            Eye Strain, Back pain, Headache, Stress                                 \n",
       "293     Eye Strain, Back pain, Headache, Stress, Other                                 \n",
       "359            Eye Strain, Back pain, Headache, Stress                                 \n",
       "370                                           No Issue                                 \n",
       "372            Eye Strain, Back pain, Headache, Stress                                 \n",
       "402                           Back pain, Stress, Other                                 \n",
       "405                    Eye Strain, Back pain, Headache                                 \n",
       "415                                           No Issue                                 \n",
       "427                                           No Issue                                 \n",
       "439                                             Stress                                 \n",
       "440                                         Eye Strain                                 \n",
       "499                                              Other                                 \n",
       "502                                   Headache, Stress                                 \n",
       "517                                  Back pain, Stress                                 \n",
       "556     Eye Strain, Back pain, Headache, Stress, Other                                 \n",
       "565                                           Headache                                 \n",
       "631     Eye Strain, Back pain, Headache, Stress, Other                                 \n",
       "652                                              Other                                 \n",
       "654                                             Stress                                 \n",
       "662                                              Other                                 \n",
       "667                                           Headache                                 \n",
       "680                      Eye Strain, Back pain, Stress                                 \n",
       "688                                   Headache, Stress                                 \n",
       "704                              Eye Strain, Back pain                                 \n",
       "713                              Eye Strain, Back pain                                 \n",
       "716                                           No Issue                                 \n",
       "718                                Back pain, Headache                                 \n",
       "719                                              Other                                 \n",
       "725                                         Eye Strain                                 \n",
       "730                                  Back pain, Stress                                 \n",
       "\n",
       "    Are you able to understand the concepts through online classes?  \\\n",
       "178                                                Yes                \n",
       "213                                                Yes                \n",
       "252                                                 No                \n",
       "269                                                Yes                \n",
       "293                                                Yes                \n",
       "359                                                Yes                \n",
       "370                                                Yes                \n",
       "372                                                 No                \n",
       "402                                                Yes                \n",
       "405                                                Yes                \n",
       "415                                                Yes                \n",
       "427                                                Yes                \n",
       "439                                                Yes                \n",
       "440                                                Yes                \n",
       "499                                                Yes                \n",
       "502                                                Yes                \n",
       "517                                                Yes                \n",
       "556                                                Yes                \n",
       "565                                                Yes                \n",
       "631                                                 No                \n",
       "652                                                 No                \n",
       "654                                                Yes                \n",
       "662                                                Yes                \n",
       "667                                                 No                \n",
       "680                                                 No                \n",
       "688                                                 No                \n",
       "704                                                Yes                \n",
       "713                                                Yes                \n",
       "716                                                Yes                \n",
       "718                                                Yes                \n",
       "719                                                Yes                \n",
       "725                                                Yes                \n",
       "730                                                Yes                \n",
       "\n",
       "    Which teaching methodology do you prefer?  \\\n",
       "178                       Presentations (ppt)   \n",
       "213                       Presentations (ppt)   \n",
       "252                      Black board teaching   \n",
       "269                      Black board teaching   \n",
       "293                       Presentations (ppt)   \n",
       "359                       Presentations (ppt)   \n",
       "370                       Presentations (ppt)   \n",
       "372                      Black board teaching   \n",
       "402                       Presentations (ppt)   \n",
       "405                       Presentations (ppt)   \n",
       "415                       Presentations (ppt)   \n",
       "427                       Presentations (ppt)   \n",
       "439                       Presentations (ppt)   \n",
       "440                       Presentations (ppt)   \n",
       "499                      Black board teaching   \n",
       "502                      Black board teaching   \n",
       "517                       Presentations (ppt)   \n",
       "556                      Black board teaching   \n",
       "565                      Black board teaching   \n",
       "631                       Presentations (ppt)   \n",
       "652                       Presentations (ppt)   \n",
       "654                      Black board teaching   \n",
       "662                       Presentations (ppt)   \n",
       "667                      Black board teaching   \n",
       "680                      Black board teaching   \n",
       "688                      Black board teaching   \n",
       "704                      Black board teaching   \n",
       "713                       Presentations (ppt)   \n",
       "716                      Black board teaching   \n",
       "718                       Presentations (ppt)   \n",
       "719                      Black board teaching   \n",
       "725                       Presentations (ppt)   \n",
       "730                       Presentations (ppt)   \n",
       "\n",
       "    Are you interested in attending online classes?  \\\n",
       "178                                             Yes   \n",
       "213                                             Yes   \n",
       "252                                              No   \n",
       "269                                             Yes   \n",
       "293                                             Yes   \n",
       "359                                             Yes   \n",
       "370                                             Yes   \n",
       "372                                             Yes   \n",
       "402                                             Yes   \n",
       "405                                             Yes   \n",
       "415                                             Yes   \n",
       "427                                              No   \n",
       "439                                             Yes   \n",
       "440                                             Yes   \n",
       "499                                             Yes   \n",
       "502                                             Yes   \n",
       "517                                             Yes   \n",
       "556                                             Yes   \n",
       "565                                             Yes   \n",
       "631                                             Yes   \n",
       "652                                              No   \n",
       "654                                             Yes   \n",
       "662                                             Yes   \n",
       "667                                              No   \n",
       "680                                             Yes   \n",
       "688                                             Yes   \n",
       "704                                              No   \n",
       "713                                             Yes   \n",
       "716                                              No   \n",
       "718                                             Yes   \n",
       "719                                             Yes   \n",
       "725                                             Yes   \n",
       "730                                             Yes   \n",
       "\n",
       "    If you are given a choice between online classes and offline classes which one will you choose?  \\\n",
       "178                                     Online classes                                                \n",
       "213                                     Online classes                                                \n",
       "252                                     Online classes                                                \n",
       "269                                     Online classes                                                \n",
       "293                                     Online classes                                                \n",
       "359                                     Online classes                                                \n",
       "370                                     Online classes                                                \n",
       "372                                     Online classes                                                \n",
       "402                                     Online classes                                                \n",
       "405                                     Online classes                                                \n",
       "415                                     Online classes                                                \n",
       "427                                     Online classes                                                \n",
       "439                                     Online classes                                                \n",
       "440                                     Online classes                                                \n",
       "499                                     Online classes                                                \n",
       "502                                     Online classes                                                \n",
       "517                                     Online classes                                                \n",
       "556                                     Online classes                                                \n",
       "565                                     Online classes                                                \n",
       "631                                     Online classes                                                \n",
       "652                                     Online classes                                                \n",
       "654                                     Online classes                                                \n",
       "662                                     Online classes                                                \n",
       "667                                     Online classes                                                \n",
       "680                                     Online classes                                                \n",
       "688                                     Online classes                                                \n",
       "704                                     Online classes                                                \n",
       "713                                     Online classes                                                \n",
       "716                                     Online classes                                                \n",
       "718                                     Online classes                                                \n",
       "719                                     Online classes                                                \n",
       "725                                     Online classes                                                \n",
       "730                                     Online classes                                                \n",
       "\n",
       "                            Comments on online classes  active  \n",
       "178  We can't continuously listen to class in onlin...   False  \n",
       "213                                                  n   False  \n",
       "252                                                NaN   False  \n",
       "269                                               Good   False  \n",
       "293                                                NaN   False  \n",
       "359                                                NaN   False  \n",
       "370  As per the schedule given to every student in ...   False  \n",
       "372                                                NaN   False  \n",
       "402                                               None   False  \n",
       "405                                               None   False  \n",
       "415  As per the schedule given to every student in ...   False  \n",
       "427                                                NaN   False  \n",
       "439                                                NaN   False  \n",
       "440                                                NaN   False  \n",
       "499                                               good   False  \n",
       "502                                                NaN   False  \n",
       "517               Important in this pandemic situation   False  \n",
       "556                                            Nothing   False  \n",
       "565                                                NaN   False  \n",
       "631                                                NaN   False  \n",
       "652                                                NaN   False  \n",
       "654                                                NaN   False  \n",
       "662                                                NaN   False  \n",
       "667                                  Offline is better   False  \n",
       "680                                                NaN   False  \n",
       "688                                                NaN   False  \n",
       "704                                                NaN   False  \n",
       "713                                                NaN   False  \n",
       "716                                                NaN   False  \n",
       "718                                                NaN   False  \n",
       "719                                      Health issues   False  \n",
       "725                                  Can be at home :)   False  \n",
       "730                                                NaN   False  "
      ]
     },
     "execution_count": 177,
     "metadata": {},
     "output_type": "execute_result"
    }
   ],
   "source": [
    "online_students.loc[online_students['active'] == False]"
   ]
  },
  {
   "cell_type": "markdown",
   "metadata": {},
   "source": [
    "Some weird samples !"
   ]
  },
  {
   "cell_type": "code",
   "execution_count": 181,
   "metadata": {},
   "outputs": [
    {
     "data": {
      "text/html": [
       "<div>\n",
       "<style scoped>\n",
       "    .dataframe tbody tr th:only-of-type {\n",
       "        vertical-align: middle;\n",
       "    }\n",
       "\n",
       "    .dataframe tbody tr th {\n",
       "        vertical-align: top;\n",
       "    }\n",
       "\n",
       "    .dataframe thead th {\n",
       "        text-align: right;\n",
       "    }\n",
       "</style>\n",
       "<table border=\"1\" class=\"dataframe\">\n",
       "  <thead>\n",
       "    <tr style=\"text-align: right;\">\n",
       "      <th></th>\n",
       "      <th>Timestamp</th>\n",
       "      <th>Gender</th>\n",
       "      <th>Webcam status during class</th>\n",
       "      <th>Mic status during class</th>\n",
       "      <th>Which device do you use for online classes?</th>\n",
       "      <th>Did you face any of the following issues after the initiation of online classes?</th>\n",
       "      <th>Are you able to understand the concepts through online classes?</th>\n",
       "      <th>Which teaching methodology do you prefer?</th>\n",
       "      <th>Are you interested in attending online classes?</th>\n",
       "      <th>If you are given a choice between online classes and offline classes which one will you choose?</th>\n",
       "      <th>Comments on online classes</th>\n",
       "      <th>active</th>\n",
       "    </tr>\n",
       "  </thead>\n",
       "  <tbody>\n",
       "    <tr>\n",
       "      <th>252</th>\n",
       "      <td>8-31-2020 19:43:11</td>\n",
       "      <td>Male</td>\n",
       "      <td>Off (No webcam available)</td>\n",
       "      <td>Off (Other reason)</td>\n",
       "      <td>Phone</td>\n",
       "      <td>Eye Strain, Headache</td>\n",
       "      <td>No</td>\n",
       "      <td>Black board teaching</td>\n",
       "      <td>No</td>\n",
       "      <td>Online classes</td>\n",
       "      <td>NaN</td>\n",
       "      <td>False</td>\n",
       "    </tr>\n",
       "    <tr>\n",
       "      <th>427</th>\n",
       "      <td>9-2-2020 20:40:36</td>\n",
       "      <td>Male</td>\n",
       "      <td>Off (Untidy appearance)</td>\n",
       "      <td>Off (Other reason)</td>\n",
       "      <td>Computer</td>\n",
       "      <td>No Issue</td>\n",
       "      <td>Yes</td>\n",
       "      <td>Presentations (ppt)</td>\n",
       "      <td>No</td>\n",
       "      <td>Online classes</td>\n",
       "      <td>NaN</td>\n",
       "      <td>False</td>\n",
       "    </tr>\n",
       "    <tr>\n",
       "      <th>652</th>\n",
       "      <td>9-3-2020 14:38:59</td>\n",
       "      <td>Male</td>\n",
       "      <td>Off (Untidy appearance)</td>\n",
       "      <td>Off (No mic available)</td>\n",
       "      <td>Phone, Laptop</td>\n",
       "      <td>Other</td>\n",
       "      <td>No</td>\n",
       "      <td>Presentations (ppt)</td>\n",
       "      <td>No</td>\n",
       "      <td>Online classes</td>\n",
       "      <td>NaN</td>\n",
       "      <td>False</td>\n",
       "    </tr>\n",
       "    <tr>\n",
       "      <th>667</th>\n",
       "      <td>9-3-2020 14:42:32</td>\n",
       "      <td>Female</td>\n",
       "      <td>Off (Shy to switch on)</td>\n",
       "      <td>Off (Do not want to reply)</td>\n",
       "      <td>Laptop</td>\n",
       "      <td>Headache</td>\n",
       "      <td>No</td>\n",
       "      <td>Black board teaching</td>\n",
       "      <td>No</td>\n",
       "      <td>Online classes</td>\n",
       "      <td>Offline is better</td>\n",
       "      <td>False</td>\n",
       "    </tr>\n",
       "    <tr>\n",
       "      <th>704</th>\n",
       "      <td>9-3-2020 15:50:15</td>\n",
       "      <td>Male</td>\n",
       "      <td>Off (Untidy appearance)</td>\n",
       "      <td>Off (Do not want to reply)</td>\n",
       "      <td>Phone, Tab</td>\n",
       "      <td>Eye Strain, Back pain</td>\n",
       "      <td>Yes</td>\n",
       "      <td>Black board teaching</td>\n",
       "      <td>No</td>\n",
       "      <td>Online classes</td>\n",
       "      <td>NaN</td>\n",
       "      <td>False</td>\n",
       "    </tr>\n",
       "    <tr>\n",
       "      <th>716</th>\n",
       "      <td>9-3-2020 19:03:59</td>\n",
       "      <td>Female</td>\n",
       "      <td>Off (Untidy appearance)</td>\n",
       "      <td>Off (No mic available)</td>\n",
       "      <td>Phone, Laptop</td>\n",
       "      <td>No Issue</td>\n",
       "      <td>Yes</td>\n",
       "      <td>Black board teaching</td>\n",
       "      <td>No</td>\n",
       "      <td>Online classes</td>\n",
       "      <td>NaN</td>\n",
       "      <td>False</td>\n",
       "    </tr>\n",
       "  </tbody>\n",
       "</table>\n",
       "</div>"
      ],
      "text/plain": [
       "              Timestamp  Gender Webcam status during class  \\\n",
       "252  8-31-2020 19:43:11    Male  Off (No webcam available)   \n",
       "427   9-2-2020 20:40:36    Male    Off (Untidy appearance)   \n",
       "652   9-3-2020 14:38:59    Male    Off (Untidy appearance)   \n",
       "667   9-3-2020 14:42:32  Female     Off (Shy to switch on)   \n",
       "704   9-3-2020 15:50:15    Male    Off (Untidy appearance)   \n",
       "716   9-3-2020 19:03:59  Female    Off (Untidy appearance)   \n",
       "\n",
       "        Mic status during class Which device do you use for online classes?  \\\n",
       "252          Off (Other reason)                                       Phone   \n",
       "427          Off (Other reason)                                    Computer   \n",
       "652      Off (No mic available)                               Phone, Laptop   \n",
       "667  Off (Do not want to reply)                                      Laptop   \n",
       "704  Off (Do not want to reply)                                  Phone, Tab   \n",
       "716      Off (No mic available)                               Phone, Laptop   \n",
       "\n",
       "    Did you face any of the following issues after the initiation of online classes?  \\\n",
       "252                               Eye Strain, Headache                                 \n",
       "427                                           No Issue                                 \n",
       "652                                              Other                                 \n",
       "667                                           Headache                                 \n",
       "704                              Eye Strain, Back pain                                 \n",
       "716                                           No Issue                                 \n",
       "\n",
       "    Are you able to understand the concepts through online classes?  \\\n",
       "252                                                 No                \n",
       "427                                                Yes                \n",
       "652                                                 No                \n",
       "667                                                 No                \n",
       "704                                                Yes                \n",
       "716                                                Yes                \n",
       "\n",
       "    Which teaching methodology do you prefer?  \\\n",
       "252                      Black board teaching   \n",
       "427                       Presentations (ppt)   \n",
       "652                       Presentations (ppt)   \n",
       "667                      Black board teaching   \n",
       "704                      Black board teaching   \n",
       "716                      Black board teaching   \n",
       "\n",
       "    Are you interested in attending online classes?  \\\n",
       "252                                              No   \n",
       "427                                              No   \n",
       "652                                              No   \n",
       "667                                              No   \n",
       "704                                              No   \n",
       "716                                              No   \n",
       "\n",
       "    If you are given a choice between online classes and offline classes which one will you choose?  \\\n",
       "252                                     Online classes                                                \n",
       "427                                     Online classes                                                \n",
       "652                                     Online classes                                                \n",
       "667                                     Online classes                                                \n",
       "704                                     Online classes                                                \n",
       "716                                     Online classes                                                \n",
       "\n",
       "    Comments on online classes  active  \n",
       "252                        NaN   False  \n",
       "427                        NaN   False  \n",
       "652                        NaN   False  \n",
       "667          Offline is better   False  \n",
       "704                        NaN   False  \n",
       "716                        NaN   False  "
      ]
     },
     "execution_count": 181,
     "metadata": {},
     "output_type": "execute_result"
    }
   ],
   "source": [
    "online_students.loc[(online_students['active'] == False)&\n",
    "                    (online_students['Are you interested in attending online classes?'] == 'No')]"
   ]
  }
 ],
 "metadata": {
  "kernelspec": {
   "display_name": "Python 3",
   "language": "python",
   "name": "python3"
  },
  "language_info": {
   "codemirror_mode": {
    "name": "ipython",
    "version": 3
   },
   "file_extension": ".py",
   "mimetype": "text/x-python",
   "name": "python",
   "nbconvert_exporter": "python",
   "pygments_lexer": "ipython3",
   "version": "3.8.3"
  }
 },
 "nbformat": 4,
 "nbformat_minor": 4
}
