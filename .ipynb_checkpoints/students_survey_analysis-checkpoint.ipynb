{
 "cells": [
  {
   "cell_type": "markdown",
   "metadata": {},
   "source": [
    "# Student Survey Analysis"
   ]
  },
  {
   "cell_type": "markdown",
   "metadata": {},
   "source": [
    "### Author: Ahmad Arrabi"
   ]
  },
  {
   "cell_type": "markdown",
   "metadata": {},
   "source": [
    "This work presents a simple analysis of a survey on online learning. Our aim is to be comfortable coding with python and to use it as a tool to gain insight, visualize, and interpret our data."
   ]
  },
  {
   "cell_type": "code",
   "execution_count": 286,
   "metadata": {},
   "outputs": [],
   "source": [
    "import pandas as pd\n",
    "import matplotlib.pyplot as plt\n",
    "%matplotlib inline"
   ]
  },
  {
   "cell_type": "markdown",
   "metadata": {},
   "source": [
    "Make sure your data is in csv format. In this case, we converted from '.xlsx' to '.csv'"
   ]
  },
  {
   "cell_type": "code",
   "execution_count": 287,
   "metadata": {},
   "outputs": [],
   "source": [
    "survey = pd.read_csv('students_survey.csv')"
   ]
  },
  {
   "cell_type": "markdown",
   "metadata": {},
   "source": [
    "## Dataset Overview"
   ]
  },
  {
   "cell_type": "code",
   "execution_count": 288,
   "metadata": {},
   "outputs": [
    {
     "data": {
      "text/html": [
       "<div>\n",
       "<style scoped>\n",
       "    .dataframe tbody tr th:only-of-type {\n",
       "        vertical-align: middle;\n",
       "    }\n",
       "\n",
       "    .dataframe tbody tr th {\n",
       "        vertical-align: top;\n",
       "    }\n",
       "\n",
       "    .dataframe thead th {\n",
       "        text-align: right;\n",
       "    }\n",
       "</style>\n",
       "<table border=\"1\" class=\"dataframe\">\n",
       "  <thead>\n",
       "    <tr style=\"text-align: right;\">\n",
       "      <th></th>\n",
       "      <th>Timestamp</th>\n",
       "      <th>Gender</th>\n",
       "      <th>Webcam status during class</th>\n",
       "      <th>Mic status during class</th>\n",
       "      <th>Which device do you use for online classes?</th>\n",
       "      <th>Did you face any of the following issues after the initiation of online classes?</th>\n",
       "      <th>Are you able to understand the concepts through online classes?</th>\n",
       "      <th>Which teaching methodology do you prefer?</th>\n",
       "      <th>Are you interested in attending online classes?</th>\n",
       "      <th>If you are given a choice between online classes and offline classes which one will you choose?</th>\n",
       "      <th>Comments on online classes</th>\n",
       "    </tr>\n",
       "  </thead>\n",
       "  <tbody>\n",
       "    <tr>\n",
       "      <th>0</th>\n",
       "      <td>8-31-2020 10:24:49</td>\n",
       "      <td>Male</td>\n",
       "      <td>Off (Other reason)</td>\n",
       "      <td>On (To answer Teacher)</td>\n",
       "      <td>Laptop</td>\n",
       "      <td>Eye Strain, Headache</td>\n",
       "      <td>Yes</td>\n",
       "      <td>Black board teaching</td>\n",
       "      <td>Yes</td>\n",
       "      <td>Offline classes</td>\n",
       "      <td>NaN</td>\n",
       "    </tr>\n",
       "    <tr>\n",
       "      <th>1</th>\n",
       "      <td>8-31-2020 17:39:42</td>\n",
       "      <td>Male</td>\n",
       "      <td>Off (No webcam available)</td>\n",
       "      <td>On (To answer Teacher)</td>\n",
       "      <td>Computer</td>\n",
       "      <td>Eye Strain</td>\n",
       "      <td>Yes</td>\n",
       "      <td>Presentations (ppt)</td>\n",
       "      <td>Yes</td>\n",
       "      <td>Online classes</td>\n",
       "      <td>Good Teaching , But It can be improved</td>\n",
       "    </tr>\n",
       "    <tr>\n",
       "      <th>2</th>\n",
       "      <td>8-31-2020 17:40:39</td>\n",
       "      <td>Male</td>\n",
       "      <td>On (When teacher asks)</td>\n",
       "      <td>On (To answer Teacher)</td>\n",
       "      <td>Laptop</td>\n",
       "      <td>Eye Strain, Back pain, Headache</td>\n",
       "      <td>Yes</td>\n",
       "      <td>Black board teaching</td>\n",
       "      <td>No</td>\n",
       "      <td>Offline classes</td>\n",
       "      <td>I would prefer offline classes</td>\n",
       "    </tr>\n",
       "    <tr>\n",
       "      <th>3</th>\n",
       "      <td>8-31-2020 17:43:43</td>\n",
       "      <td>Male</td>\n",
       "      <td>On (All the time)</td>\n",
       "      <td>On (To answer Teacher)</td>\n",
       "      <td>Computer</td>\n",
       "      <td>Eye Strain, Back pain</td>\n",
       "      <td>Yes</td>\n",
       "      <td>Presentations (ppt)</td>\n",
       "      <td>Yes</td>\n",
       "      <td>Offline classes</td>\n",
       "      <td>NaN</td>\n",
       "    </tr>\n",
       "    <tr>\n",
       "      <th>4</th>\n",
       "      <td>8-31-2020 17:44:06</td>\n",
       "      <td>Female</td>\n",
       "      <td>On (When teacher asks)</td>\n",
       "      <td>On (To answer Teacher)</td>\n",
       "      <td>Phone, Laptop</td>\n",
       "      <td>Eye Strain, Back pain, Headache</td>\n",
       "      <td>No</td>\n",
       "      <td>Black board teaching</td>\n",
       "      <td>No</td>\n",
       "      <td>Offline classes</td>\n",
       "      <td>NaN</td>\n",
       "    </tr>\n",
       "    <tr>\n",
       "      <th>5</th>\n",
       "      <td>8-31-2020 17:44:33</td>\n",
       "      <td>Male</td>\n",
       "      <td>On (When teacher asks)</td>\n",
       "      <td>On (To answer Teacher)</td>\n",
       "      <td>Laptop</td>\n",
       "      <td>Headache</td>\n",
       "      <td>Yes</td>\n",
       "      <td>Presentations (ppt)</td>\n",
       "      <td>No</td>\n",
       "      <td>Offline classes</td>\n",
       "      <td>NaN</td>\n",
       "    </tr>\n",
       "    <tr>\n",
       "      <th>6</th>\n",
       "      <td>8-31-2020 17:46:44</td>\n",
       "      <td>Female</td>\n",
       "      <td>On (When teacher asks)</td>\n",
       "      <td>On (To answer Teacher)</td>\n",
       "      <td>Phone, Tab, Laptop, Computer</td>\n",
       "      <td>Eye Strain, Back pain, Headache</td>\n",
       "      <td>Yes</td>\n",
       "      <td>Black board teaching</td>\n",
       "      <td>Yes</td>\n",
       "      <td>Offline classes</td>\n",
       "      <td>NaN</td>\n",
       "    </tr>\n",
       "    <tr>\n",
       "      <th>7</th>\n",
       "      <td>8-31-2020 17:47:08</td>\n",
       "      <td>Male</td>\n",
       "      <td>On (All the time)</td>\n",
       "      <td>On (To answer Teacher)</td>\n",
       "      <td>Tab</td>\n",
       "      <td>Back pain</td>\n",
       "      <td>No</td>\n",
       "      <td>Black board teaching</td>\n",
       "      <td>No</td>\n",
       "      <td>Online classes</td>\n",
       "      <td>NaN</td>\n",
       "    </tr>\n",
       "  </tbody>\n",
       "</table>\n",
       "</div>"
      ],
      "text/plain": [
       "            Timestamp  Gender Webcam status during class  \\\n",
       "0  8-31-2020 10:24:49    Male         Off (Other reason)   \n",
       "1  8-31-2020 17:39:42    Male  Off (No webcam available)   \n",
       "2  8-31-2020 17:40:39    Male     On (When teacher asks)   \n",
       "3  8-31-2020 17:43:43    Male          On (All the time)   \n",
       "4  8-31-2020 17:44:06  Female     On (When teacher asks)   \n",
       "5  8-31-2020 17:44:33    Male     On (When teacher asks)   \n",
       "6  8-31-2020 17:46:44  Female     On (When teacher asks)   \n",
       "7  8-31-2020 17:47:08    Male          On (All the time)   \n",
       "\n",
       "  Mic status during class Which device do you use for online classes?  \\\n",
       "0  On (To answer Teacher)                                      Laptop   \n",
       "1  On (To answer Teacher)                                    Computer   \n",
       "2  On (To answer Teacher)                                      Laptop   \n",
       "3  On (To answer Teacher)                                    Computer   \n",
       "4  On (To answer Teacher)                               Phone, Laptop   \n",
       "5  On (To answer Teacher)                                      Laptop   \n",
       "6  On (To answer Teacher)                Phone, Tab, Laptop, Computer   \n",
       "7  On (To answer Teacher)                                         Tab   \n",
       "\n",
       "  Did you face any of the following issues after the initiation of online classes?  \\\n",
       "0                               Eye Strain, Headache                                 \n",
       "1                                         Eye Strain                                 \n",
       "2                    Eye Strain, Back pain, Headache                                 \n",
       "3                              Eye Strain, Back pain                                 \n",
       "4                    Eye Strain, Back pain, Headache                                 \n",
       "5                                           Headache                                 \n",
       "6                    Eye Strain, Back pain, Headache                                 \n",
       "7                                          Back pain                                 \n",
       "\n",
       "  Are you able to understand the concepts through online classes?  \\\n",
       "0                                                Yes                \n",
       "1                                                Yes                \n",
       "2                                                Yes                \n",
       "3                                                Yes                \n",
       "4                                                 No                \n",
       "5                                                Yes                \n",
       "6                                                Yes                \n",
       "7                                                 No                \n",
       "\n",
       "  Which teaching methodology do you prefer?  \\\n",
       "0                      Black board teaching   \n",
       "1                       Presentations (ppt)   \n",
       "2                      Black board teaching   \n",
       "3                       Presentations (ppt)   \n",
       "4                      Black board teaching   \n",
       "5                       Presentations (ppt)   \n",
       "6                      Black board teaching   \n",
       "7                      Black board teaching   \n",
       "\n",
       "  Are you interested in attending online classes?  \\\n",
       "0                                             Yes   \n",
       "1                                             Yes   \n",
       "2                                              No   \n",
       "3                                             Yes   \n",
       "4                                              No   \n",
       "5                                              No   \n",
       "6                                             Yes   \n",
       "7                                              No   \n",
       "\n",
       "  If you are given a choice between online classes and offline classes which one will you choose?  \\\n",
       "0                                    Offline classes                                                \n",
       "1                                     Online classes                                                \n",
       "2                                    Offline classes                                                \n",
       "3                                    Offline classes                                                \n",
       "4                                    Offline classes                                                \n",
       "5                                    Offline classes                                                \n",
       "6                                    Offline classes                                                \n",
       "7                                     Online classes                                                \n",
       "\n",
       "                Comments on online classes  \n",
       "0                                      NaN  \n",
       "1  Good Teaching , But It can be improved   \n",
       "2          I would prefer offline classes   \n",
       "3                                      NaN  \n",
       "4                                      NaN  \n",
       "5                                      NaN  \n",
       "6                                      NaN  \n",
       "7                                      NaN  "
      ]
     },
     "execution_count": 288,
     "metadata": {},
     "output_type": "execute_result"
    }
   ],
   "source": [
    "survey.head(8)"
   ]
  },
  {
   "cell_type": "code",
   "execution_count": 289,
   "metadata": {},
   "outputs": [
    {
     "data": {
      "text/plain": [
       "(746, 11)"
      ]
     },
     "execution_count": 289,
     "metadata": {},
     "output_type": "execute_result"
    }
   ],
   "source": [
    "survey.shape"
   ]
  },
  {
   "cell_type": "code",
   "execution_count": 290,
   "metadata": {},
   "outputs": [
    {
     "name": "stdout",
     "output_type": "stream",
     "text": [
      "<class 'pandas.core.frame.DataFrame'>\n",
      "RangeIndex: 746 entries, 0 to 745\n",
      "Data columns (total 11 columns):\n",
      " #   Column                                                                                           Non-Null Count  Dtype \n",
      "---  ------                                                                                           --------------  ----- \n",
      " 0   Timestamp                                                                                        746 non-null    object\n",
      " 1   Gender                                                                                           746 non-null    object\n",
      " 2   Webcam status during class                                                                       746 non-null    object\n",
      " 3   Mic status during class                                                                          746 non-null    object\n",
      " 4   Which device do you use for online classes?                                                      746 non-null    object\n",
      " 5   Did you face any of the following issues after the initiation of online classes?                 746 non-null    object\n",
      " 6   Are you able to understand the concepts through online classes?                                  746 non-null    object\n",
      " 7   Which teaching methodology do you prefer?                                                        746 non-null    object\n",
      " 8   Are you interested in attending online classes?                                                  746 non-null    object\n",
      " 9   If you are given a choice between online classes and offline classes which one will you choose?  746 non-null    object\n",
      " 10  Comments on online classes                                                                       247 non-null    object\n",
      "dtypes: object(11)\n",
      "memory usage: 64.2+ KB\n"
     ]
    }
   ],
   "source": [
    "survey.info()"
   ]
  },
  {
   "cell_type": "code",
   "execution_count": 291,
   "metadata": {},
   "outputs": [
    {
     "data": {
      "text/html": [
       "<div>\n",
       "<style scoped>\n",
       "    .dataframe tbody tr th:only-of-type {\n",
       "        vertical-align: middle;\n",
       "    }\n",
       "\n",
       "    .dataframe tbody tr th {\n",
       "        vertical-align: top;\n",
       "    }\n",
       "\n",
       "    .dataframe thead th {\n",
       "        text-align: right;\n",
       "    }\n",
       "</style>\n",
       "<table border=\"1\" class=\"dataframe\">\n",
       "  <thead>\n",
       "    <tr style=\"text-align: right;\">\n",
       "      <th></th>\n",
       "      <th>Timestamp</th>\n",
       "      <th>Gender</th>\n",
       "      <th>Webcam status during class</th>\n",
       "      <th>Mic status during class</th>\n",
       "      <th>Which device do you use for online classes?</th>\n",
       "      <th>Did you face any of the following issues after the initiation of online classes?</th>\n",
       "      <th>Are you able to understand the concepts through online classes?</th>\n",
       "      <th>Which teaching methodology do you prefer?</th>\n",
       "      <th>Are you interested in attending online classes?</th>\n",
       "      <th>If you are given a choice between online classes and offline classes which one will you choose?</th>\n",
       "      <th>Comments on online classes</th>\n",
       "    </tr>\n",
       "  </thead>\n",
       "  <tbody>\n",
       "    <tr>\n",
       "      <th>count</th>\n",
       "      <td>746</td>\n",
       "      <td>746</td>\n",
       "      <td>746</td>\n",
       "      <td>746</td>\n",
       "      <td>746</td>\n",
       "      <td>746</td>\n",
       "      <td>746</td>\n",
       "      <td>746</td>\n",
       "      <td>746</td>\n",
       "      <td>746</td>\n",
       "      <td>247</td>\n",
       "    </tr>\n",
       "    <tr>\n",
       "      <th>unique</th>\n",
       "      <td>733</td>\n",
       "      <td>2</td>\n",
       "      <td>6</td>\n",
       "      <td>5</td>\n",
       "      <td>15</td>\n",
       "      <td>35</td>\n",
       "      <td>2</td>\n",
       "      <td>2</td>\n",
       "      <td>2</td>\n",
       "      <td>2</td>\n",
       "      <td>183</td>\n",
       "    </tr>\n",
       "    <tr>\n",
       "      <th>top</th>\n",
       "      <td>9-3-2020 13:38:25</td>\n",
       "      <td>Female</td>\n",
       "      <td>On (When teacher asks)</td>\n",
       "      <td>On (To answer Teacher)</td>\n",
       "      <td>Laptop</td>\n",
       "      <td>No Issue</td>\n",
       "      <td>No</td>\n",
       "      <td>Black board teaching</td>\n",
       "      <td>No</td>\n",
       "      <td>Offline classes</td>\n",
       "      <td>Good</td>\n",
       "    </tr>\n",
       "    <tr>\n",
       "      <th>freq</th>\n",
       "      <td>2</td>\n",
       "      <td>384</td>\n",
       "      <td>366</td>\n",
       "      <td>493</td>\n",
       "      <td>323</td>\n",
       "      <td>87</td>\n",
       "      <td>390</td>\n",
       "      <td>515</td>\n",
       "      <td>435</td>\n",
       "      <td>585</td>\n",
       "      <td>17</td>\n",
       "    </tr>\n",
       "  </tbody>\n",
       "</table>\n",
       "</div>"
      ],
      "text/plain": [
       "                Timestamp  Gender Webcam status during class  \\\n",
       "count                 746     746                        746   \n",
       "unique                733       2                          6   \n",
       "top     9-3-2020 13:38:25  Female     On (When teacher asks)   \n",
       "freq                    2     384                        366   \n",
       "\n",
       "       Mic status during class Which device do you use for online classes?  \\\n",
       "count                      746                                         746   \n",
       "unique                       5                                          15   \n",
       "top     On (To answer Teacher)                                      Laptop   \n",
       "freq                       493                                         323   \n",
       "\n",
       "       Did you face any of the following issues after the initiation of online classes?  \\\n",
       "count                                                 746                                 \n",
       "unique                                                 35                                 \n",
       "top                                              No Issue                                 \n",
       "freq                                                   87                                 \n",
       "\n",
       "       Are you able to understand the concepts through online classes?  \\\n",
       "count                                                 746                \n",
       "unique                                                  2                \n",
       "top                                                    No                \n",
       "freq                                                  390                \n",
       "\n",
       "       Which teaching methodology do you prefer?  \\\n",
       "count                                        746   \n",
       "unique                                         2   \n",
       "top                         Black board teaching   \n",
       "freq                                         515   \n",
       "\n",
       "       Are you interested in attending online classes?  \\\n",
       "count                                              746   \n",
       "unique                                               2   \n",
       "top                                                 No   \n",
       "freq                                               435   \n",
       "\n",
       "       If you are given a choice between online classes and offline classes which one will you choose?  \\\n",
       "count                                                 746                                                \n",
       "unique                                                  2                                                \n",
       "top                                       Offline classes                                                \n",
       "freq                                                  585                                                \n",
       "\n",
       "       Comments on online classes  \n",
       "count                         247  \n",
       "unique                        183  \n",
       "top                          Good  \n",
       "freq                           17  "
      ]
     },
     "execution_count": 291,
     "metadata": {},
     "output_type": "execute_result"
    }
   ],
   "source": [
    "survey.describe()"
   ]
  },
  {
   "cell_type": "markdown",
   "metadata": {},
   "source": [
    "By using the describe function, we can know the most frequent answer for each question. It is apparent that students were not satisfied with online teaching."
   ]
  },
  {
   "cell_type": "markdown",
   "metadata": {},
   "source": [
    "## Analyzing answers"
   ]
  },
  {
   "cell_type": "markdown",
   "metadata": {},
   "source": [
    "#### Activety in class"
   ]
  },
  {
   "cell_type": "markdown",
   "metadata": {},
   "source": [
    "Let's first take a look at how much do students interact in class (webcam/mic)"
   ]
  },
  {
   "cell_type": "code",
   "execution_count": 292,
   "metadata": {},
   "outputs": [
    {
     "data": {
      "text/plain": [
       "On (When teacher asks)       366\n",
       "On (All the time)            124\n",
       "Off (Other reason)            89\n",
       "Off (Shy to switch on)        57\n",
       "Off (No webcam available)     56\n",
       "Off (Untidy appearance)       54\n",
       "Name: Webcam status during class, dtype: int64"
      ]
     },
     "execution_count": 292,
     "metadata": {},
     "output_type": "execute_result"
    }
   ],
   "source": [
    "survey['Webcam status during class'].value_counts()"
   ]
  },
  {
   "cell_type": "code",
   "execution_count": 362,
   "metadata": {},
   "outputs": [
    {
     "data": {
      "image/png": "[encoded data removed]",
      "text/plain": [
       "<Figure size 432x288 with 1 Axes>"
      ]
     },
     "metadata": {
      "needs_background": "light"
     },
     "output_type": "display_data"
    }
   ],
   "source": [
    "webcam_on = survey.loc[survey['Webcam status during class'].str.startswith('On')]\n",
    "webcam_off = survey.loc[survey['Webcam status during class'].str.startswith('Off')]\n",
    "\n",
    "webcam_on.loc[:,('Webcam status during class')] = 'On'\n",
    "\n",
    "webcam_off.loc[:,('Webcam status during class')] = 'Off'\n",
    "\n",
    "plt.bar(x = webcam_on['Webcam status during class'], height = len(webcam_on), width = 0.3, align='center')\n",
    "plt.bar(x = webcam_off['Webcam status during class'], height = len(webcam_off), width = 0.3, align='center')\n",
    "\n",
    "plt.title('Webcam usage by students')\n",
    "plt.show()"
   ]
  },
  {
   "cell_type": "code",
   "execution_count": 382,
   "metadata": {},
   "outputs": [
    {
     "data": {
      "image/png": "[encoded data removed]",
      "text/plain": [
       "<Figure size 720x576 with 1 Axes>"
      ]
     },
     "metadata": {
      "needs_background": "light"
     },
     "output_type": "display_data"
    }
   ],
   "source": [
    "survey['Webcam status during class'].value_counts().plot(kind = 'bar', figsize = (10,8), fontsize=12)\n",
    "plt.xticks(rotation =20)\n",
    "plt.title('Webcam status')\n",
    "plt.show()"
   ]
  },
  {
   "cell_type": "code",
   "execution_count": 295,
   "metadata": {},
   "outputs": [
    {
     "data": {
      "text/plain": [
       "On (To answer Teacher)        493\n",
       "Always On                      88\n",
       "Off (Do not want to reply)     63\n",
       "Off (Other reason)             58\n",
       "Off (No mic available)         44\n",
       "Name: Mic status during class, dtype: int64"
      ]
     },
     "execution_count": 295,
     "metadata": {},
     "output_type": "execute_result"
    }
   ],
   "source": [
    "survey['Mic status during class'].value_counts()"
   ]
  },
  {
   "cell_type": "code",
   "execution_count": 363,
   "metadata": {},
   "outputs": [
    {
     "data": {
      "image/png": "[encoded data removed]",
      "text/plain": [
       "<Figure size 432x288 with 1 Axes>"
      ]
     },
     "metadata": {
      "needs_background": "light"
     },
     "output_type": "display_data"
    }
   ],
   "source": [
    "mic_on = survey.loc[survey['Mic status during class'].str.startswith('On') |\n",
    "                    survey['Mic status during class'].str.startswith('Always')]\n",
    "\n",
    "mic_off = survey.loc[survey['Mic status during class'].str.startswith('Off')]\n",
    "\n",
    "mic_on.loc[:,('Mic status during class')] = 'On'\n",
    "mic_off.loc[:,('Mic status during class')] = 'Off'\n",
    "\n",
    "plt.bar(x = mic_on['Mic status during class'], height = len(mic_on), width = 0.3, align='center')\n",
    "plt.bar(x = mic_off['Mic status during class'], height = len(mic_off), width = 0.3, align='center')\n",
    "\n",
    "plt.title('Mic usage by students')\n",
    "plt.show()"
   ]
  },
  {
   "cell_type": "code",
   "execution_count": 381,
   "metadata": {},
   "outputs": [
    {
     "data": {
      "image/png": "[encoded data removed]",
      "text/plain": [
       "<Figure size 720x576 with 1 Axes>"
      ]
     },
     "metadata": {
      "needs_background": "light"
     },
     "output_type": "display_data"
    }
   ],
   "source": [
    "survey['Mic status during class'].value_counts().plot(kind='bar', figsize = (10, 8), fontsize = 12)\n",
    "plt.xticks(rotation =20)\n",
    "plt.title('Mic status')\n",
    "plt.show()"
   ]
  },
  {
   "cell_type": "markdown",
   "metadata": {},
   "source": [
    "Now we want to determine students' overall interaction in classes, which can be defined as students who have either the mic or the webcam enabled."
   ]
  },
  {
   "cell_type": "markdown",
   "metadata": {},
   "source": [
    "We didn't change the index so if we joined datasets on index, and filtered out students with both webcam and mic on, then we'll get interactive students."
   ]
  },
  {
   "cell_type": "code",
   "execution_count": 298,
   "metadata": {},
   "outputs": [],
   "source": [
    "mic_on = mic_on.filter(['Mic status during class'])\n",
    "mic_off = mic_off.filter(['Mic status during class'])\n",
    "webcam_on = webcam_on.filter(['Webcam status during class'])\n",
    "webcam_off = webcam_off.filter(['Webcam status during class'])"
   ]
  },
  {
   "cell_type": "code",
   "execution_count": 299,
   "metadata": {},
   "outputs": [],
   "source": [
    "interactive_students = webcam_on.join(mic_on, how = 'outer')\n",
    "\n",
    "lazy_students = webcam_off.join(mic_off, how = 'outer')"
   ]
  },
  {
   "cell_type": "markdown",
   "metadata": {},
   "source": [
    "Notice that outer joins lead to null values, so we have to deal with that !"
   ]
  },
  {
   "cell_type": "code",
   "execution_count": 300,
   "metadata": {},
   "outputs": [],
   "source": [
    "interactive_students.fillna('NULL', inplace = True)\n",
    "lazy_students.fillna('NULL', inplace = True)\n",
    "\n",
    "interactive_students = interactive_students.loc[(interactive_students['Mic status during class'] == 'On') |\n",
    "                        (interactive_students['Webcam status during class'] == 'On')]\n",
    "\n",
    "lazy_students = lazy_students.loc[(lazy_students['Mic status during class'] == 'Off') &\n",
    "                        (lazy_students['Webcam status during class'] == 'Off')]\n",
    "\n",
    "interactive_students['active'] = True\n",
    "\n",
    "lazy_students['active'] = False\n",
    "\n",
    "interactive_students = interactive_students.filter(['active'])\n",
    "\n",
    "lazy_students = lazy_students.filter(['active'])"
   ]
  },
  {
   "cell_type": "code",
   "execution_count": 303,
   "metadata": {},
   "outputs": [],
   "source": [
    "survey = survey.join(interactive_students)\n",
    "survey['active'].fillna(False, inplace = True)"
   ]
  },
  {
   "cell_type": "code",
   "execution_count": 317,
   "metadata": {},
   "outputs": [
    {
     "data": {
      "text/plain": [
       "True     0.831099\n",
       "False    0.168901\n",
       "Name: active, dtype: float64"
      ]
     },
     "execution_count": 317,
     "metadata": {},
     "output_type": "execute_result"
    }
   ],
   "source": [
    "survey['active'].value_counts(normalize = True)"
   ]
  },
  {
   "cell_type": "code",
   "execution_count": 328,
   "metadata": {},
   "outputs": [
    {
     "data": {
      "image/png": "[encoded data removed]",
      "text/plain": [
       "<Figure size 360x360 with 1 Axes>"
      ]
     },
     "metadata": {},
     "output_type": "display_data"
    }
   ],
   "source": [
    "survey['active'].value_counts(normalize = True).plot(figsize = (5,5), kind = 'pie', ylabel = '', autopct='%1.1f%%', startangle=270, fontsize=12, title = 'Students activety in online classes')\n",
    "plt.legend(['active','inactive'], loc = 'upper left')\n",
    "plt.show()"
   ]
  },
  {
   "cell_type": "markdown",
   "metadata": {},
   "source": [
    "#### Device used to attend class"
   ]
  },
  {
   "cell_type": "markdown",
   "metadata": {},
   "source": [
    "Let's analyze another answer, which is Which device do you use for online classes?"
   ]
  },
  {
   "cell_type": "code",
   "execution_count": 324,
   "metadata": {},
   "outputs": [
    {
     "data": {
      "text/plain": [
       "Laptop                          323\n",
       "Phone                           166\n",
       "Phone, Laptop                   105\n",
       "Computer                         40\n",
       "Tab                              35\n",
       "Phone, Tab, Laptop, Computer     15\n",
       "Tab, Laptop                      14\n",
       "Phone, Tab, Laptop               12\n",
       "Laptop, Computer                 10\n",
       "Phone, Tab                       10\n",
       "Phone, Laptop, Computer           8\n",
       "Phone, Computer                   3\n",
       "Tab, Laptop, Computer             2\n",
       "Tab, Computer                     2\n",
       "Phone, Tab, Computer              1\n",
       "Name: Which device do you use for online classes?, dtype: int64"
      ]
     },
     "execution_count": 324,
     "metadata": {},
     "output_type": "execute_result"
    }
   ],
   "source": [
    "survey['Which device do you use for online classes?'].value_counts()"
   ]
  },
  {
   "cell_type": "markdown",
   "metadata": {},
   "source": [
    "Notice that there are multiple devices in one string"
   ]
  },
  {
   "cell_type": "code",
   "execution_count": 339,
   "metadata": {},
   "outputs": [],
   "source": [
    "lazy_students_devices = survey.loc[survey['active'] == False]['Which device do you use for online classes?'].str.split(',', expand = True)"
   ]
  },
  {
   "cell_type": "code",
   "execution_count": 348,
   "metadata": {},
   "outputs": [
    {
     "data": {
      "text/plain": [
       "Laptop      61\n",
       "Phone       59\n",
       "Computer    27\n",
       "Tab         22\n",
       "dtype: int64"
      ]
     },
     "execution_count": 348,
     "metadata": {},
     "output_type": "execute_result"
    }
   ],
   "source": [
    "lazy_students_devices.stack().str.lstrip().value_counts()"
   ]
  },
  {
   "cell_type": "code",
   "execution_count": 359,
   "metadata": {},
   "outputs": [],
   "source": [
    "active_students_devices = survey.loc[survey['active'] == True]['Which device do you use for online classes?'].str.split(',', expand=True)"
   ]
  },
  {
   "cell_type": "code",
   "execution_count": 360,
   "metadata": {},
   "outputs": [
    {
     "data": {
      "text/plain": [
       "Laptop      428\n",
       "Phone       261\n",
       "Tab          69\n",
       "Computer     54\n",
       "dtype: int64"
      ]
     },
     "execution_count": 360,
     "metadata": {},
     "output_type": "execute_result"
    }
   ],
   "source": [
    "active_students_devices.stack().str.lstrip().value_counts()"
   ]
  },
  {
   "cell_type": "markdown",
   "metadata": {},
   "source": [
    "#### Issues  faced in online learning"
   ]
  },
  {
   "cell_type": "code",
   "execution_count": 380,
   "metadata": {},
   "outputs": [
    {
     "data": {
      "image/png": "[encoded data removed]",
      "text/plain": [
       "<Figure size 504x360 with 1 Axes>"
      ]
     },
     "metadata": {
      "needs_background": "light"
     },
     "output_type": "display_data"
    }
   ],
   "source": [
    "survey['Did you face any of the following issues after the initiation of online classes?'].str.split(', ', expand=True).stack().value_counts().plot(kind = 'bar', figsize=(7,5))\n",
    "plt.xticks(rotation = 20)\n",
    "plt.title('Student issues faced during online leanring')\n",
    "plt.show()"
   ]
  },
  {
   "cell_type": "markdown",
   "metadata": {},
   "source": [
    "Most students faced issues during online learning, with only some (below 100) faced none."
   ]
  },
  {
   "cell_type": "markdown",
   "metadata": {},
   "source": [
    "Let's try to invistigate possible reasons behind these issues. "
   ]
  },
  {
   "cell_type": "code",
   "execution_count": null,
   "metadata": {},
   "outputs": [],
   "source": []
  }
 ],
 "metadata": {
  "kernelspec": {
   "display_name": "Python 3",
   "language": "python",
   "name": "python3"
  },
  "language_info": {
   "codemirror_mode": {
    "name": "ipython",
    "version": 3
   },
   "file_extension": ".py",
   "mimetype": "text/x-python",
   "name": "python",
   "nbconvert_exporter": "python",
   "pygments_lexer": "ipython3",
   "version": "3.8.3"
  }
 },
 "nbformat": 4,
 "nbformat_minor": 4
}
